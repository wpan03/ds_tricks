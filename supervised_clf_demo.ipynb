{
  "nbformat": 4,
  "nbformat_minor": 5,
  "metadata": {
    "interpreter": {
      "hash": "718bf85f3541632ea84dad26eb3650b79d1ee7e1ee55997bfbe797dc2dd7c243"
    },
    "kernelspec": {
      "name": "python3",
      "display_name": "Python 3.7.9 64-bit ('base': conda)"
    },
    "language_info": {
      "codemirror_mode": {
        "name": "ipython",
        "version": 3
      },
      "file_extension": ".py",
      "mimetype": "text/x-python",
      "name": "python",
      "nbconvert_exporter": "python",
      "pygments_lexer": "ipython3",
      "version": "3.7.9"
    },
    "colab": {
      "name": "supervised_clf_demo.ipynb",
      "provenance": [],
      "include_colab_link": true
    }
  },
  "cells": [
    {
      "cell_type": "markdown",
      "metadata": {
        "id": "view-in-github",
        "colab_type": "text"
      },
      "source": [
        "<a href=\"https://colab.research.google.com/github/wpan03/quick_ds_python/blob/master/supervised_clf_demo.ipynb\" target=\"_parent\"><img src=\"https://colab.research.google.com/assets/colab-badge.svg\" alt=\"Open In Colab\"/></a>"
      ]
    },
    {
      "cell_type": "code",
      "metadata": {
        "id": "_5nV0jzo4_v6",
        "colab": {
          "base_uri": "https://localhost:8080/"
        },
        "outputId": "bf49d64d-7f8f-4ff2-e60e-4f12bfdae343"
      },
      "source": [
        "try:\n",
        "    # %tensorflow_version only exists in Colab.\n",
        "    %tensorflow_version 2.x\n",
        "    IS_COLAB = True\n",
        "except Exception:\n",
        "    IS_COLAB = False\n",
        "\n",
        "if IS_COLAB:\n",
        "    !git clone https://github.com/wpan03/quick_ds_python.git\n",
        "    %cd quick_ds_python\n",
        "    !pip install treeinterpreter==0.2.3\n",
        "    !pip install scikit-learn==0.24.1\n",
        "else:\n",
        "    %load_ext autoreload\n",
        "    %autoreload 2"
      ],
      "id": "_5nV0jzo4_v6",
      "execution_count": 1,
      "outputs": [
        {
          "output_type": "stream",
          "text": [
            "Cloning into 'quick_ds_python'...\n",
            "remote: Enumerating objects: 237, done.\u001b[K\n",
            "remote: Counting objects: 100% (237/237), done.\u001b[K\n",
            "remote: Compressing objects: 100% (157/157), done.\u001b[K\n",
            "remote: Total 237 (delta 124), reused 164 (delta 67), pack-reused 0\u001b[K\n",
            "Receiving objects: 100% (237/237), 755.40 KiB | 2.97 MiB/s, done.\n",
            "Resolving deltas: 100% (124/124), done.\n",
            "/content/quick_ds_python\n",
            "Collecting treeinterpreter==0.2.3\n",
            "  Downloading treeinterpreter-0.2.3-py2.py3-none-any.whl (6.0 kB)\n",
            "Installing collected packages: treeinterpreter\n",
            "Successfully installed treeinterpreter-0.2.3\n",
            "Collecting scikit-learn==0.24.1\n",
            "  Downloading scikit_learn-0.24.1-cp37-cp37m-manylinux2010_x86_64.whl (22.3 MB)\n",
            "\u001b[K     |████████████████████████████████| 22.3 MB 62.9 MB/s \n",
            "\u001b[?25hRequirement already satisfied: numpy>=1.13.3 in /usr/local/lib/python3.7/dist-packages (from scikit-learn==0.24.1) (1.19.5)\n",
            "Requirement already satisfied: joblib>=0.11 in /usr/local/lib/python3.7/dist-packages (from scikit-learn==0.24.1) (1.0.1)\n",
            "Collecting threadpoolctl>=2.0.0\n",
            "  Downloading threadpoolctl-2.2.0-py3-none-any.whl (12 kB)\n",
            "Requirement already satisfied: scipy>=0.19.1 in /usr/local/lib/python3.7/dist-packages (from scikit-learn==0.24.1) (1.4.1)\n",
            "Installing collected packages: threadpoolctl, scikit-learn\n",
            "  Attempting uninstall: scikit-learn\n",
            "    Found existing installation: scikit-learn 0.22.2.post1\n",
            "    Uninstalling scikit-learn-0.22.2.post1:\n",
            "      Successfully uninstalled scikit-learn-0.22.2.post1\n",
            "Successfully installed scikit-learn-0.24.1 threadpoolctl-2.2.0\n"
          ],
          "name": "stdout"
        }
      ]
    },
    {
      "cell_type": "code",
      "metadata": {
        "id": "UMEDBjHW4-xY"
      },
      "source": [
        "import numpy as np\n",
        "import pandas as pd\n",
        "import matplotlib.pyplot as plt\n",
        "from sklearn import preprocessing\n",
        "from sklearn.tree import DecisionTreeClassifier, plot_tree\n",
        "from sklearn.ensemble import RandomForestClassifier\n",
        "from sklearn.model_selection import train_test_split\n",
        "from sklearn.impute import SimpleImputer\n",
        "\n",
        "from src.eda import see_missing, plot_corr_heatmap, get_freq_table\n",
        "from src.preprocess import get_x_y, get_preprocessor, do_transform\n",
        "from src.evaluate import binary_evaluation, binary_cross_evaluate\n",
        "from src.explain import (get_feature_imp, get_permute_imp_df, plot_permute_imp,\n",
        "                         get_binary_error_analysis, plot_single_instance_explaination)\n",
        "from src.model_supervised import find_dt_clf_max_depth\n"
      ],
      "id": "UMEDBjHW4-xY",
      "execution_count": 2,
      "outputs": []
    },
    {
      "cell_type": "code",
      "metadata": {
        "id": "xECxDgBB4-xZ"
      },
      "source": [
        "df = pd.read_csv('https://raw.githubusercontent.com/wpan03/quick_ds_python/master/data/titanic_train.csv')"
      ],
      "id": "xECxDgBB4-xZ",
      "execution_count": 3,
      "outputs": []
    },
    {
      "cell_type": "markdown",
      "metadata": {
        "id": "Vfd5L0K84-xZ"
      },
      "source": [
        "## EDA"
      ],
      "id": "Vfd5L0K84-xZ"
    },
    {
      "cell_type": "code",
      "metadata": {
        "id": "kkrQbkRY4-xZ",
        "colab": {
          "base_uri": "https://localhost:8080/",
          "height": 204
        },
        "outputId": "4c70ef1a-fd1d-4caf-9014-9f8d34365568"
      },
      "source": [
        "df.head()"
      ],
      "id": "kkrQbkRY4-xZ",
      "execution_count": 4,
      "outputs": [
        {
          "output_type": "execute_result",
          "data": {
            "text/html": [
              "<div>\n",
              "<style scoped>\n",
              "    .dataframe tbody tr th:only-of-type {\n",
              "        vertical-align: middle;\n",
              "    }\n",
              "\n",
              "    .dataframe tbody tr th {\n",
              "        vertical-align: top;\n",
              "    }\n",
              "\n",
              "    .dataframe thead th {\n",
              "        text-align: right;\n",
              "    }\n",
              "</style>\n",
              "<table border=\"1\" class=\"dataframe\">\n",
              "  <thead>\n",
              "    <tr style=\"text-align: right;\">\n",
              "      <th></th>\n",
              "      <th>PassengerId</th>\n",
              "      <th>Survived</th>\n",
              "      <th>Pclass</th>\n",
              "      <th>Name</th>\n",
              "      <th>Sex</th>\n",
              "      <th>Age</th>\n",
              "      <th>SibSp</th>\n",
              "      <th>Parch</th>\n",
              "      <th>Ticket</th>\n",
              "      <th>Fare</th>\n",
              "      <th>Cabin</th>\n",
              "      <th>Embarked</th>\n",
              "    </tr>\n",
              "  </thead>\n",
              "  <tbody>\n",
              "    <tr>\n",
              "      <th>0</th>\n",
              "      <td>1</td>\n",
              "      <td>0</td>\n",
              "      <td>3</td>\n",
              "      <td>Braund, Mr. Owen Harris</td>\n",
              "      <td>male</td>\n",
              "      <td>22.0</td>\n",
              "      <td>1</td>\n",
              "      <td>0</td>\n",
              "      <td>A/5 21171</td>\n",
              "      <td>7.2500</td>\n",
              "      <td>NaN</td>\n",
              "      <td>S</td>\n",
              "    </tr>\n",
              "    <tr>\n",
              "      <th>1</th>\n",
              "      <td>2</td>\n",
              "      <td>1</td>\n",
              "      <td>1</td>\n",
              "      <td>Cumings, Mrs. John Bradley (Florence Briggs Th...</td>\n",
              "      <td>female</td>\n",
              "      <td>38.0</td>\n",
              "      <td>1</td>\n",
              "      <td>0</td>\n",
              "      <td>PC 17599</td>\n",
              "      <td>71.2833</td>\n",
              "      <td>C85</td>\n",
              "      <td>C</td>\n",
              "    </tr>\n",
              "    <tr>\n",
              "      <th>2</th>\n",
              "      <td>3</td>\n",
              "      <td>1</td>\n",
              "      <td>3</td>\n",
              "      <td>Heikkinen, Miss. Laina</td>\n",
              "      <td>female</td>\n",
              "      <td>26.0</td>\n",
              "      <td>0</td>\n",
              "      <td>0</td>\n",
              "      <td>STON/O2. 3101282</td>\n",
              "      <td>7.9250</td>\n",
              "      <td>NaN</td>\n",
              "      <td>S</td>\n",
              "    </tr>\n",
              "    <tr>\n",
              "      <th>3</th>\n",
              "      <td>4</td>\n",
              "      <td>1</td>\n",
              "      <td>1</td>\n",
              "      <td>Futrelle, Mrs. Jacques Heath (Lily May Peel)</td>\n",
              "      <td>female</td>\n",
              "      <td>35.0</td>\n",
              "      <td>1</td>\n",
              "      <td>0</td>\n",
              "      <td>113803</td>\n",
              "      <td>53.1000</td>\n",
              "      <td>C123</td>\n",
              "      <td>S</td>\n",
              "    </tr>\n",
              "    <tr>\n",
              "      <th>4</th>\n",
              "      <td>5</td>\n",
              "      <td>0</td>\n",
              "      <td>3</td>\n",
              "      <td>Allen, Mr. William Henry</td>\n",
              "      <td>male</td>\n",
              "      <td>35.0</td>\n",
              "      <td>0</td>\n",
              "      <td>0</td>\n",
              "      <td>373450</td>\n",
              "      <td>8.0500</td>\n",
              "      <td>NaN</td>\n",
              "      <td>S</td>\n",
              "    </tr>\n",
              "  </tbody>\n",
              "</table>\n",
              "</div>"
            ],
            "text/plain": [
              "   PassengerId  Survived  Pclass  ...     Fare Cabin  Embarked\n",
              "0            1         0       3  ...   7.2500   NaN         S\n",
              "1            2         1       1  ...  71.2833   C85         C\n",
              "2            3         1       3  ...   7.9250   NaN         S\n",
              "3            4         1       1  ...  53.1000  C123         S\n",
              "4            5         0       3  ...   8.0500   NaN         S\n",
              "\n",
              "[5 rows x 12 columns]"
            ]
          },
          "metadata": {},
          "execution_count": 4
        }
      ]
    },
    {
      "cell_type": "code",
      "metadata": {
        "id": "rQOwnscI4-xa",
        "colab": {
          "base_uri": "https://localhost:8080/"
        },
        "outputId": "e9f165bb-5f59-4df2-b321-d49ee2199729"
      },
      "source": [
        "df.shape"
      ],
      "id": "rQOwnscI4-xa",
      "execution_count": 5,
      "outputs": [
        {
          "output_type": "execute_result",
          "data": {
            "text/plain": [
              "(891, 12)"
            ]
          },
          "metadata": {},
          "execution_count": 5
        }
      ]
    },
    {
      "cell_type": "code",
      "metadata": {
        "id": "xjr2HhQS4-xa",
        "colab": {
          "base_uri": "https://localhost:8080/",
          "height": 142
        },
        "outputId": "d86cac24-f644-460f-e440-227b4635633a"
      },
      "source": [
        "see_missing(df, only_missing=True)"
      ],
      "id": "xjr2HhQS4-xa",
      "execution_count": 6,
      "outputs": [
        {
          "output_type": "execute_result",
          "data": {
            "text/html": [
              "<div>\n",
              "<style scoped>\n",
              "    .dataframe tbody tr th:only-of-type {\n",
              "        vertical-align: middle;\n",
              "    }\n",
              "\n",
              "    .dataframe tbody tr th {\n",
              "        vertical-align: top;\n",
              "    }\n",
              "\n",
              "    .dataframe thead th {\n",
              "        text-align: right;\n",
              "    }\n",
              "</style>\n",
              "<table border=\"1\" class=\"dataframe\">\n",
              "  <thead>\n",
              "    <tr style=\"text-align: right;\">\n",
              "      <th></th>\n",
              "      <th>columns</th>\n",
              "      <th>total_missing</th>\n",
              "      <th>percent_missing</th>\n",
              "    </tr>\n",
              "  </thead>\n",
              "  <tbody>\n",
              "    <tr>\n",
              "      <th>0</th>\n",
              "      <td>Cabin</td>\n",
              "      <td>687</td>\n",
              "      <td>77.104377</td>\n",
              "    </tr>\n",
              "    <tr>\n",
              "      <th>1</th>\n",
              "      <td>Age</td>\n",
              "      <td>177</td>\n",
              "      <td>19.865320</td>\n",
              "    </tr>\n",
              "    <tr>\n",
              "      <th>2</th>\n",
              "      <td>Embarked</td>\n",
              "      <td>2</td>\n",
              "      <td>0.224467</td>\n",
              "    </tr>\n",
              "  </tbody>\n",
              "</table>\n",
              "</div>"
            ],
            "text/plain": [
              "    columns  total_missing  percent_missing\n",
              "0     Cabin            687        77.104377\n",
              "1       Age            177        19.865320\n",
              "2  Embarked              2         0.224467"
            ]
          },
          "metadata": {},
          "execution_count": 6
        }
      ]
    },
    {
      "cell_type": "code",
      "metadata": {
        "id": "WD0B8rln4-xb",
        "colab": {
          "base_uri": "https://localhost:8080/",
          "height": 187
        },
        "outputId": "764e2a06-fee7-4de3-8dfe-04328c424093"
      },
      "source": [
        "plot_corr_heatmap(df)"
      ],
      "id": "WD0B8rln4-xb",
      "execution_count": 7,
      "outputs": [
        {
          "output_type": "execute_result",
          "data": {
            "text/html": [
              "<style  type=\"text/css\" >\n",
              "#T_296f7a86_0762_11ec_8cca_0242ac1c0002row0_col0,#T_296f7a86_0762_11ec_8cca_0242ac1c0002row1_col1,#T_296f7a86_0762_11ec_8cca_0242ac1c0002row2_col2,#T_296f7a86_0762_11ec_8cca_0242ac1c0002row3_col3,#T_296f7a86_0762_11ec_8cca_0242ac1c0002row4_col4,#T_296f7a86_0762_11ec_8cca_0242ac1c0002row5_col5,#T_296f7a86_0762_11ec_8cca_0242ac1c0002row6_col6{\n",
              "            background-color:  #b40426;\n",
              "            color:  #f1f1f1;\n",
              "        }#T_296f7a86_0762_11ec_8cca_0242ac1c0002row0_col1{\n",
              "            background-color:  #8caffe;\n",
              "            color:  #000000;\n",
              "        }#T_296f7a86_0762_11ec_8cca_0242ac1c0002row0_col2{\n",
              "            background-color:  #a9c6fd;\n",
              "            color:  #000000;\n",
              "        }#T_296f7a86_0762_11ec_8cca_0242ac1c0002row0_col3{\n",
              "            background-color:  #9dbdff;\n",
              "            color:  #000000;\n",
              "        }#T_296f7a86_0762_11ec_8cca_0242ac1c0002row0_col4,#T_296f7a86_0762_11ec_8cca_0242ac1c0002row3_col1{\n",
              "            background-color:  #799cf8;\n",
              "            color:  #000000;\n",
              "        }#T_296f7a86_0762_11ec_8cca_0242ac1c0002row0_col5{\n",
              "            background-color:  #6c8ff1;\n",
              "            color:  #000000;\n",
              "        }#T_296f7a86_0762_11ec_8cca_0242ac1c0002row0_col6{\n",
              "            background-color:  #b3cdfb;\n",
              "            color:  #000000;\n",
              "        }#T_296f7a86_0762_11ec_8cca_0242ac1c0002row1_col0{\n",
              "            background-color:  #4961d2;\n",
              "            color:  #f1f1f1;\n",
              "        }#T_296f7a86_0762_11ec_8cca_0242ac1c0002row1_col2{\n",
              "            background-color:  #6485ec;\n",
              "            color:  #000000;\n",
              "        }#T_296f7a86_0762_11ec_8cca_0242ac1c0002row1_col3{\n",
              "            background-color:  #80a3fa;\n",
              "            color:  #000000;\n",
              "        }#T_296f7a86_0762_11ec_8cca_0242ac1c0002row1_col4{\n",
              "            background-color:  #7ea1fa;\n",
              "            color:  #000000;\n",
              "        }#T_296f7a86_0762_11ec_8cca_0242ac1c0002row1_col5{\n",
              "            background-color:  #85a8fc;\n",
              "            color:  #000000;\n",
              "        }#T_296f7a86_0762_11ec_8cca_0242ac1c0002row1_col6{\n",
              "            background-color:  #e2dad5;\n",
              "            color:  #000000;\n",
              "        }#T_296f7a86_0762_11ec_8cca_0242ac1c0002row2_col0{\n",
              "            background-color:  #4055c8;\n",
              "            color:  #f1f1f1;\n",
              "        }#T_296f7a86_0762_11ec_8cca_0242ac1c0002row2_col1,#T_296f7a86_0762_11ec_8cca_0242ac1c0002row2_col3,#T_296f7a86_0762_11ec_8cca_0242ac1c0002row2_col6,#T_296f7a86_0762_11ec_8cca_0242ac1c0002row3_col4,#T_296f7a86_0762_11ec_8cca_0242ac1c0002row3_col5,#T_296f7a86_0762_11ec_8cca_0242ac1c0002row4_col0,#T_296f7a86_0762_11ec_8cca_0242ac1c0002row6_col2{\n",
              "            background-color:  #3b4cc0;\n",
              "            color:  #f1f1f1;\n",
              "        }#T_296f7a86_0762_11ec_8cca_0242ac1c0002row2_col4{\n",
              "            background-color:  #9ebeff;\n",
              "            color:  #000000;\n",
              "        }#T_296f7a86_0762_11ec_8cca_0242ac1c0002row2_col5{\n",
              "            background-color:  #7295f4;\n",
              "            color:  #000000;\n",
              "        }#T_296f7a86_0762_11ec_8cca_0242ac1c0002row3_col0{\n",
              "            background-color:  #5572df;\n",
              "            color:  #000000;\n",
              "        }#T_296f7a86_0762_11ec_8cca_0242ac1c0002row3_col2{\n",
              "            background-color:  #5e7de7;\n",
              "            color:  #000000;\n",
              "        }#T_296f7a86_0762_11ec_8cca_0242ac1c0002row3_col6{\n",
              "            background-color:  #c5d6f2;\n",
              "            color:  #000000;\n",
              "        }#T_296f7a86_0762_11ec_8cca_0242ac1c0002row4_col1{\n",
              "            background-color:  #84a7fc;\n",
              "            color:  #000000;\n",
              "        }#T_296f7a86_0762_11ec_8cca_0242ac1c0002row4_col2{\n",
              "            background-color:  #c3d5f4;\n",
              "            color:  #000000;\n",
              "        }#T_296f7a86_0762_11ec_8cca_0242ac1c0002row4_col3{\n",
              "            background-color:  #485fd1;\n",
              "            color:  #f1f1f1;\n",
              "        }#T_296f7a86_0762_11ec_8cca_0242ac1c0002row4_col5{\n",
              "            background-color:  #dfdbd9;\n",
              "            color:  #000000;\n",
              "        }#T_296f7a86_0762_11ec_8cca_0242ac1c0002row4_col6{\n",
              "            background-color:  #d2dbe8;\n",
              "            color:  #000000;\n",
              "        }#T_296f7a86_0762_11ec_8cca_0242ac1c0002row5_col0{\n",
              "            background-color:  #4a63d3;\n",
              "            color:  #f1f1f1;\n",
              "        }#T_296f7a86_0762_11ec_8cca_0242ac1c0002row5_col1{\n",
              "            background-color:  #a3c2fe;\n",
              "            color:  #000000;\n",
              "        }#T_296f7a86_0762_11ec_8cca_0242ac1c0002row5_col2{\n",
              "            background-color:  #b5cdfa;\n",
              "            color:  #000000;\n",
              "        }#T_296f7a86_0762_11ec_8cca_0242ac1c0002row5_col3{\n",
              "            background-color:  #6384eb;\n",
              "            color:  #000000;\n",
              "        }#T_296f7a86_0762_11ec_8cca_0242ac1c0002row5_col4{\n",
              "            background-color:  #ead5c9;\n",
              "            color:  #000000;\n",
              "        }#T_296f7a86_0762_11ec_8cca_0242ac1c0002row5_col6{\n",
              "            background-color:  #dbdcde;\n",
              "            color:  #000000;\n",
              "        }#T_296f7a86_0762_11ec_8cca_0242ac1c0002row6_col0{\n",
              "            background-color:  #4e68d8;\n",
              "            color:  #000000;\n",
              "        }#T_296f7a86_0762_11ec_8cca_0242ac1c0002row6_col1{\n",
              "            background-color:  #cdd9ec;\n",
              "            color:  #000000;\n",
              "        }#T_296f7a86_0762_11ec_8cca_0242ac1c0002row6_col3{\n",
              "            background-color:  #abc8fd;\n",
              "            color:  #000000;\n",
              "        }#T_296f7a86_0762_11ec_8cca_0242ac1c0002row6_col4{\n",
              "            background-color:  #b2ccfb;\n",
              "            color:  #000000;\n",
              "        }#T_296f7a86_0762_11ec_8cca_0242ac1c0002row6_col5{\n",
              "            background-color:  #adc9fd;\n",
              "            color:  #000000;\n",
              "        }</style><table id=\"T_296f7a86_0762_11ec_8cca_0242ac1c0002\" ><thead>    <tr>        <th class=\"blank level0\" ></th>        <th class=\"col_heading level0 col0\" >PassengerId</th>        <th class=\"col_heading level0 col1\" >Survived</th>        <th class=\"col_heading level0 col2\" >Pclass</th>        <th class=\"col_heading level0 col3\" >Age</th>        <th class=\"col_heading level0 col4\" >SibSp</th>        <th class=\"col_heading level0 col5\" >Parch</th>        <th class=\"col_heading level0 col6\" >Fare</th>    </tr></thead><tbody>\n",
              "                <tr>\n",
              "                        <th id=\"T_296f7a86_0762_11ec_8cca_0242ac1c0002level0_row0\" class=\"row_heading level0 row0\" >PassengerId</th>\n",
              "                        <td id=\"T_296f7a86_0762_11ec_8cca_0242ac1c0002row0_col0\" class=\"data row0 col0\" >1.00</td>\n",
              "                        <td id=\"T_296f7a86_0762_11ec_8cca_0242ac1c0002row0_col1\" class=\"data row0 col1\" >-0.01</td>\n",
              "                        <td id=\"T_296f7a86_0762_11ec_8cca_0242ac1c0002row0_col2\" class=\"data row0 col2\" >-0.04</td>\n",
              "                        <td id=\"T_296f7a86_0762_11ec_8cca_0242ac1c0002row0_col3\" class=\"data row0 col3\" >0.04</td>\n",
              "                        <td id=\"T_296f7a86_0762_11ec_8cca_0242ac1c0002row0_col4\" class=\"data row0 col4\" >-0.06</td>\n",
              "                        <td id=\"T_296f7a86_0762_11ec_8cca_0242ac1c0002row0_col5\" class=\"data row0 col5\" >-0.00</td>\n",
              "                        <td id=\"T_296f7a86_0762_11ec_8cca_0242ac1c0002row0_col6\" class=\"data row0 col6\" >0.01</td>\n",
              "            </tr>\n",
              "            <tr>\n",
              "                        <th id=\"T_296f7a86_0762_11ec_8cca_0242ac1c0002level0_row1\" class=\"row_heading level0 row1\" >Survived</th>\n",
              "                        <td id=\"T_296f7a86_0762_11ec_8cca_0242ac1c0002row1_col0\" class=\"data row1 col0\" >-0.01</td>\n",
              "                        <td id=\"T_296f7a86_0762_11ec_8cca_0242ac1c0002row1_col1\" class=\"data row1 col1\" >1.00</td>\n",
              "                        <td id=\"T_296f7a86_0762_11ec_8cca_0242ac1c0002row1_col2\" class=\"data row1 col2\" >-0.34</td>\n",
              "                        <td id=\"T_296f7a86_0762_11ec_8cca_0242ac1c0002row1_col3\" class=\"data row1 col3\" >-0.08</td>\n",
              "                        <td id=\"T_296f7a86_0762_11ec_8cca_0242ac1c0002row1_col4\" class=\"data row1 col4\" >-0.04</td>\n",
              "                        <td id=\"T_296f7a86_0762_11ec_8cca_0242ac1c0002row1_col5\" class=\"data row1 col5\" >0.08</td>\n",
              "                        <td id=\"T_296f7a86_0762_11ec_8cca_0242ac1c0002row1_col6\" class=\"data row1 col6\" >0.26</td>\n",
              "            </tr>\n",
              "            <tr>\n",
              "                        <th id=\"T_296f7a86_0762_11ec_8cca_0242ac1c0002level0_row2\" class=\"row_heading level0 row2\" >Pclass</th>\n",
              "                        <td id=\"T_296f7a86_0762_11ec_8cca_0242ac1c0002row2_col0\" class=\"data row2 col0\" >-0.04</td>\n",
              "                        <td id=\"T_296f7a86_0762_11ec_8cca_0242ac1c0002row2_col1\" class=\"data row2 col1\" >-0.34</td>\n",
              "                        <td id=\"T_296f7a86_0762_11ec_8cca_0242ac1c0002row2_col2\" class=\"data row2 col2\" >1.00</td>\n",
              "                        <td id=\"T_296f7a86_0762_11ec_8cca_0242ac1c0002row2_col3\" class=\"data row2 col3\" >-0.37</td>\n",
              "                        <td id=\"T_296f7a86_0762_11ec_8cca_0242ac1c0002row2_col4\" class=\"data row2 col4\" >0.08</td>\n",
              "                        <td id=\"T_296f7a86_0762_11ec_8cca_0242ac1c0002row2_col5\" class=\"data row2 col5\" >0.02</td>\n",
              "                        <td id=\"T_296f7a86_0762_11ec_8cca_0242ac1c0002row2_col6\" class=\"data row2 col6\" >-0.55</td>\n",
              "            </tr>\n",
              "            <tr>\n",
              "                        <th id=\"T_296f7a86_0762_11ec_8cca_0242ac1c0002level0_row3\" class=\"row_heading level0 row3\" >Age</th>\n",
              "                        <td id=\"T_296f7a86_0762_11ec_8cca_0242ac1c0002row3_col0\" class=\"data row3 col0\" >0.04</td>\n",
              "                        <td id=\"T_296f7a86_0762_11ec_8cca_0242ac1c0002row3_col1\" class=\"data row3 col1\" >-0.08</td>\n",
              "                        <td id=\"T_296f7a86_0762_11ec_8cca_0242ac1c0002row3_col2\" class=\"data row3 col2\" >-0.37</td>\n",
              "                        <td id=\"T_296f7a86_0762_11ec_8cca_0242ac1c0002row3_col3\" class=\"data row3 col3\" >1.00</td>\n",
              "                        <td id=\"T_296f7a86_0762_11ec_8cca_0242ac1c0002row3_col4\" class=\"data row3 col4\" >-0.31</td>\n",
              "                        <td id=\"T_296f7a86_0762_11ec_8cca_0242ac1c0002row3_col5\" class=\"data row3 col5\" >-0.19</td>\n",
              "                        <td id=\"T_296f7a86_0762_11ec_8cca_0242ac1c0002row3_col6\" class=\"data row3 col6\" >0.10</td>\n",
              "            </tr>\n",
              "            <tr>\n",
              "                        <th id=\"T_296f7a86_0762_11ec_8cca_0242ac1c0002level0_row4\" class=\"row_heading level0 row4\" >SibSp</th>\n",
              "                        <td id=\"T_296f7a86_0762_11ec_8cca_0242ac1c0002row4_col0\" class=\"data row4 col0\" >-0.06</td>\n",
              "                        <td id=\"T_296f7a86_0762_11ec_8cca_0242ac1c0002row4_col1\" class=\"data row4 col1\" >-0.04</td>\n",
              "                        <td id=\"T_296f7a86_0762_11ec_8cca_0242ac1c0002row4_col2\" class=\"data row4 col2\" >0.08</td>\n",
              "                        <td id=\"T_296f7a86_0762_11ec_8cca_0242ac1c0002row4_col3\" class=\"data row4 col3\" >-0.31</td>\n",
              "                        <td id=\"T_296f7a86_0762_11ec_8cca_0242ac1c0002row4_col4\" class=\"data row4 col4\" >1.00</td>\n",
              "                        <td id=\"T_296f7a86_0762_11ec_8cca_0242ac1c0002row4_col5\" class=\"data row4 col5\" >0.41</td>\n",
              "                        <td id=\"T_296f7a86_0762_11ec_8cca_0242ac1c0002row4_col6\" class=\"data row4 col6\" >0.16</td>\n",
              "            </tr>\n",
              "            <tr>\n",
              "                        <th id=\"T_296f7a86_0762_11ec_8cca_0242ac1c0002level0_row5\" class=\"row_heading level0 row5\" >Parch</th>\n",
              "                        <td id=\"T_296f7a86_0762_11ec_8cca_0242ac1c0002row5_col0\" class=\"data row5 col0\" >-0.00</td>\n",
              "                        <td id=\"T_296f7a86_0762_11ec_8cca_0242ac1c0002row5_col1\" class=\"data row5 col1\" >0.08</td>\n",
              "                        <td id=\"T_296f7a86_0762_11ec_8cca_0242ac1c0002row5_col2\" class=\"data row5 col2\" >0.02</td>\n",
              "                        <td id=\"T_296f7a86_0762_11ec_8cca_0242ac1c0002row5_col3\" class=\"data row5 col3\" >-0.19</td>\n",
              "                        <td id=\"T_296f7a86_0762_11ec_8cca_0242ac1c0002row5_col4\" class=\"data row5 col4\" >0.41</td>\n",
              "                        <td id=\"T_296f7a86_0762_11ec_8cca_0242ac1c0002row5_col5\" class=\"data row5 col5\" >1.00</td>\n",
              "                        <td id=\"T_296f7a86_0762_11ec_8cca_0242ac1c0002row5_col6\" class=\"data row5 col6\" >0.22</td>\n",
              "            </tr>\n",
              "            <tr>\n",
              "                        <th id=\"T_296f7a86_0762_11ec_8cca_0242ac1c0002level0_row6\" class=\"row_heading level0 row6\" >Fare</th>\n",
              "                        <td id=\"T_296f7a86_0762_11ec_8cca_0242ac1c0002row6_col0\" class=\"data row6 col0\" >0.01</td>\n",
              "                        <td id=\"T_296f7a86_0762_11ec_8cca_0242ac1c0002row6_col1\" class=\"data row6 col1\" >0.26</td>\n",
              "                        <td id=\"T_296f7a86_0762_11ec_8cca_0242ac1c0002row6_col2\" class=\"data row6 col2\" >-0.55</td>\n",
              "                        <td id=\"T_296f7a86_0762_11ec_8cca_0242ac1c0002row6_col3\" class=\"data row6 col3\" >0.10</td>\n",
              "                        <td id=\"T_296f7a86_0762_11ec_8cca_0242ac1c0002row6_col4\" class=\"data row6 col4\" >0.16</td>\n",
              "                        <td id=\"T_296f7a86_0762_11ec_8cca_0242ac1c0002row6_col5\" class=\"data row6 col5\" >0.22</td>\n",
              "                        <td id=\"T_296f7a86_0762_11ec_8cca_0242ac1c0002row6_col6\" class=\"data row6 col6\" >1.00</td>\n",
              "            </tr>\n",
              "    </tbody></table>"
            ],
            "text/plain": [
              "<pandas.io.formats.style.Styler at 0x7f2fe2fa9b90>"
            ]
          },
          "metadata": {},
          "execution_count": 7
        }
      ]
    },
    {
      "cell_type": "code",
      "metadata": {
        "id": "IZ25cGr64-xc",
        "colab": {
          "base_uri": "https://localhost:8080/",
          "height": 111
        },
        "outputId": "a206267d-5c75-40a2-84ae-0370e426c79a"
      },
      "source": [
        "get_freq_table(df, 'Survived')"
      ],
      "id": "IZ25cGr64-xc",
      "execution_count": 8,
      "outputs": [
        {
          "output_type": "execute_result",
          "data": {
            "text/html": [
              "<div>\n",
              "<style scoped>\n",
              "    .dataframe tbody tr th:only-of-type {\n",
              "        vertical-align: middle;\n",
              "    }\n",
              "\n",
              "    .dataframe tbody tr th {\n",
              "        vertical-align: top;\n",
              "    }\n",
              "\n",
              "    .dataframe thead th {\n",
              "        text-align: right;\n",
              "    }\n",
              "</style>\n",
              "<table border=\"1\" class=\"dataframe\">\n",
              "  <thead>\n",
              "    <tr style=\"text-align: right;\">\n",
              "      <th></th>\n",
              "      <th>count</th>\n",
              "      <th>percentage</th>\n",
              "    </tr>\n",
              "  </thead>\n",
              "  <tbody>\n",
              "    <tr>\n",
              "      <th>0</th>\n",
              "      <td>549</td>\n",
              "      <td>0.616162</td>\n",
              "    </tr>\n",
              "    <tr>\n",
              "      <th>1</th>\n",
              "      <td>342</td>\n",
              "      <td>0.383838</td>\n",
              "    </tr>\n",
              "  </tbody>\n",
              "</table>\n",
              "</div>"
            ],
            "text/plain": [
              "   count  percentage\n",
              "0    549    0.616162\n",
              "1    342    0.383838"
            ]
          },
          "metadata": {},
          "execution_count": 8
        }
      ]
    },
    {
      "cell_type": "code",
      "metadata": {
        "id": "9ZYoKT9C4-xc",
        "colab": {
          "base_uri": "https://localhost:8080/"
        },
        "outputId": "7b14cb7a-7c54-4cd2-e063-22c02577038c"
      },
      "source": [
        "df.columns"
      ],
      "id": "9ZYoKT9C4-xc",
      "execution_count": 9,
      "outputs": [
        {
          "output_type": "execute_result",
          "data": {
            "text/plain": [
              "Index(['PassengerId', 'Survived', 'Pclass', 'Name', 'Sex', 'Age', 'SibSp',\n",
              "       'Parch', 'Ticket', 'Fare', 'Cabin', 'Embarked'],\n",
              "      dtype='object')"
            ]
          },
          "metadata": {},
          "execution_count": 9
        }
      ]
    },
    {
      "cell_type": "code",
      "metadata": {
        "id": "LyfIqVFD4-xd"
      },
      "source": [
        "model_vars = ['Pclass', 'Sex', 'Age', 'Fare', 'Survived']"
      ],
      "id": "LyfIqVFD4-xd",
      "execution_count": 10,
      "outputs": []
    },
    {
      "cell_type": "markdown",
      "metadata": {
        "id": "Tp-GF81L4-xd"
      },
      "source": [
        "## Preprocess"
      ],
      "id": "Tp-GF81L4-xd"
    },
    {
      "cell_type": "markdown",
      "metadata": {
        "id": "Eblqe14P4-xd"
      },
      "source": [
        "### Train and Test Split"
      ],
      "id": "Eblqe14P4-xd"
    },
    {
      "cell_type": "code",
      "metadata": {
        "id": "6HKXEsYy4-xe"
      },
      "source": [
        "df_mod = df[model_vars]"
      ],
      "id": "6HKXEsYy4-xe",
      "execution_count": 11,
      "outputs": []
    },
    {
      "cell_type": "code",
      "metadata": {
        "id": "5lBo88C_4-xe"
      },
      "source": [
        "X, y = get_x_y(df_mod, label_col='Survived')"
      ],
      "id": "5lBo88C_4-xe",
      "execution_count": 12,
      "outputs": []
    },
    {
      "cell_type": "code",
      "metadata": {
        "id": "yX6iuQhL4-xe"
      },
      "source": [
        "X_train, X_test, y_train, y_test = train_test_split(X, y, random_state=36)"
      ],
      "id": "yX6iuQhL4-xe",
      "execution_count": 13,
      "outputs": []
    },
    {
      "cell_type": "markdown",
      "metadata": {
        "id": "MCqwbyEp4-xe"
      },
      "source": [
        "### Encode and Impute"
      ],
      "id": "MCqwbyEp4-xe"
    },
    {
      "cell_type": "code",
      "metadata": {
        "id": "CfKK3hcn4-xe"
      },
      "source": [
        "oh_enc = preprocessing.OneHotEncoder(drop='if_binary')\n",
        "med_imp = SimpleImputer(strategy='median')"
      ],
      "id": "CfKK3hcn4-xe",
      "execution_count": 14,
      "outputs": []
    },
    {
      "cell_type": "code",
      "metadata": {
        "id": "iBvv98be4-xe",
        "colab": {
          "base_uri": "https://localhost:8080/"
        },
        "outputId": "438dc57b-5b73-4485-9a75-641e78f3be3f"
      },
      "source": [
        "preprocessor = get_preprocessor(oh_enc, med_imp)\n",
        "preprocessor"
      ],
      "id": "iBvv98be4-xe",
      "execution_count": 15,
      "outputs": [
        {
          "output_type": "execute_result",
          "data": {
            "text/plain": [
              "ColumnTransformer(transformers=[('onehotencoder',\n",
              "                                 OneHotEncoder(drop='if_binary'),\n",
              "                                 <sklearn.compose._column_transformer.make_column_selector object at 0x7f2fe1f90250>),\n",
              "                                ('simpleimputer',\n",
              "                                 SimpleImputer(strategy='median'),\n",
              "                                 <sklearn.compose._column_transformer.make_column_selector object at 0x7f2fe1f90290>)])"
            ]
          },
          "metadata": {},
          "execution_count": 15
        }
      ]
    },
    {
      "cell_type": "code",
      "metadata": {
        "id": "U8spITJX4-xf"
      },
      "source": [
        "_ = preprocessor.fit(X)"
      ],
      "id": "U8spITJX4-xf",
      "execution_count": 16,
      "outputs": []
    },
    {
      "cell_type": "code",
      "metadata": {
        "id": "eeM2F48o4-xf",
        "colab": {
          "base_uri": "https://localhost:8080/"
        },
        "outputId": "1a07c5b4-e7f7-405e-b4c4-651e26467d83"
      },
      "source": [
        "col_names = list(preprocessor.transformers_[0][1].get_feature_names()) + preprocessor.transformers_[1][2]\n",
        "col_names"
      ],
      "id": "eeM2F48o4-xf",
      "execution_count": 17,
      "outputs": [
        {
          "output_type": "execute_result",
          "data": {
            "text/plain": [
              "['x0_male', 'Pclass', 'Age', 'Fare']"
            ]
          },
          "metadata": {},
          "execution_count": 17
        }
      ]
    },
    {
      "cell_type": "code",
      "metadata": {
        "id": "-Bb5iXRX4-xf"
      },
      "source": [
        "X_train_prepared = do_transform(X_train, preprocessor, col_names)\n",
        "X_test_prepared = do_transform(X_test, preprocessor, col_names)"
      ],
      "id": "-Bb5iXRX4-xf",
      "execution_count": 18,
      "outputs": []
    },
    {
      "cell_type": "markdown",
      "metadata": {
        "id": "OXZfPa-G4-xf"
      },
      "source": [
        "## Fit Model"
      ],
      "id": "OXZfPa-G4-xf"
    },
    {
      "cell_type": "code",
      "metadata": {
        "id": "KdBsCJN-4-xf"
      },
      "source": [
        "mod_rf = RandomForestClassifier(random_state=36)"
      ],
      "id": "KdBsCJN-4-xf",
      "execution_count": 19,
      "outputs": []
    },
    {
      "cell_type": "code",
      "metadata": {
        "id": "J69lNcmE4-xg"
      },
      "source": [
        "_ = mod_rf.fit(X_train_prepared, y_train)"
      ],
      "id": "J69lNcmE4-xg",
      "execution_count": 20,
      "outputs": []
    },
    {
      "cell_type": "code",
      "metadata": {
        "id": "t4DQMvS04-xg",
        "colab": {
          "base_uri": "https://localhost:8080/",
          "height": 204
        },
        "outputId": "d5fac0c4-39d9-4e55-f1f5-da95e9ff2fb7"
      },
      "source": [
        "binary_evaluation(X_train_prepared, y_train, mod_rf)"
      ],
      "id": "t4DQMvS04-xg",
      "execution_count": 21,
      "outputs": [
        {
          "output_type": "execute_result",
          "data": {
            "text/html": [
              "<div>\n",
              "<style scoped>\n",
              "    .dataframe tbody tr th:only-of-type {\n",
              "        vertical-align: middle;\n",
              "    }\n",
              "\n",
              "    .dataframe tbody tr th {\n",
              "        vertical-align: top;\n",
              "    }\n",
              "\n",
              "    .dataframe thead th {\n",
              "        text-align: right;\n",
              "    }\n",
              "</style>\n",
              "<table border=\"1\" class=\"dataframe\">\n",
              "  <thead>\n",
              "    <tr style=\"text-align: right;\">\n",
              "      <th></th>\n",
              "      <th>metrics</th>\n",
              "      <th>value</th>\n",
              "    </tr>\n",
              "  </thead>\n",
              "  <tbody>\n",
              "    <tr>\n",
              "      <th>0</th>\n",
              "      <td>accuracy</td>\n",
              "      <td>0.979042</td>\n",
              "    </tr>\n",
              "    <tr>\n",
              "      <th>1</th>\n",
              "      <td>balanced acc</td>\n",
              "      <td>0.975351</td>\n",
              "    </tr>\n",
              "    <tr>\n",
              "      <th>2</th>\n",
              "      <td>precision</td>\n",
              "      <td>0.983740</td>\n",
              "    </tr>\n",
              "    <tr>\n",
              "      <th>3</th>\n",
              "      <td>recall</td>\n",
              "      <td>0.960317</td>\n",
              "    </tr>\n",
              "    <tr>\n",
              "      <th>4</th>\n",
              "      <td>f1</td>\n",
              "      <td>0.971888</td>\n",
              "    </tr>\n",
              "  </tbody>\n",
              "</table>\n",
              "</div>"
            ],
            "text/plain": [
              "        metrics     value\n",
              "0      accuracy  0.979042\n",
              "1  balanced acc  0.975351\n",
              "2     precision  0.983740\n",
              "3        recall  0.960317\n",
              "4            f1  0.971888"
            ]
          },
          "metadata": {},
          "execution_count": 21
        }
      ]
    },
    {
      "cell_type": "code",
      "metadata": {
        "id": "ilw1wUSG4-xg",
        "colab": {
          "base_uri": "https://localhost:8080/",
          "height": 142
        },
        "outputId": "6a998d84-9e8d-4cd2-a587-b8a58bdd0807"
      },
      "source": [
        "binary_cross_evaluate(X_train_prepared, y_train, mod_rf)"
      ],
      "id": "ilw1wUSG4-xg",
      "execution_count": 22,
      "outputs": [
        {
          "output_type": "execute_result",
          "data": {
            "text/html": [
              "<div>\n",
              "<style scoped>\n",
              "    .dataframe tbody tr th:only-of-type {\n",
              "        vertical-align: middle;\n",
              "    }\n",
              "\n",
              "    .dataframe tbody tr th {\n",
              "        vertical-align: top;\n",
              "    }\n",
              "\n",
              "    .dataframe thead th {\n",
              "        text-align: right;\n",
              "    }\n",
              "</style>\n",
              "<table border=\"1\" class=\"dataframe\">\n",
              "  <thead>\n",
              "    <tr style=\"text-align: right;\">\n",
              "      <th></th>\n",
              "      <th>fit_time</th>\n",
              "      <th>score_time</th>\n",
              "      <th>test_accuracy</th>\n",
              "      <th>test_f1</th>\n",
              "    </tr>\n",
              "  </thead>\n",
              "  <tbody>\n",
              "    <tr>\n",
              "      <th>0</th>\n",
              "      <td>0.223635</td>\n",
              "      <td>0.018602</td>\n",
              "      <td>0.820628</td>\n",
              "      <td>0.759036</td>\n",
              "    </tr>\n",
              "    <tr>\n",
              "      <th>1</th>\n",
              "      <td>0.189403</td>\n",
              "      <td>0.016554</td>\n",
              "      <td>0.807175</td>\n",
              "      <td>0.732919</td>\n",
              "    </tr>\n",
              "    <tr>\n",
              "      <th>2</th>\n",
              "      <td>0.169953</td>\n",
              "      <td>0.016224</td>\n",
              "      <td>0.756757</td>\n",
              "      <td>0.662500</td>\n",
              "    </tr>\n",
              "  </tbody>\n",
              "</table>\n",
              "</div>"
            ],
            "text/plain": [
              "   fit_time  score_time  test_accuracy   test_f1\n",
              "0  0.223635    0.018602       0.820628  0.759036\n",
              "1  0.189403    0.016554       0.807175  0.732919\n",
              "2  0.169953    0.016224       0.756757  0.662500"
            ]
          },
          "metadata": {},
          "execution_count": 22
        }
      ]
    },
    {
      "cell_type": "markdown",
      "metadata": {
        "id": "4H5USppf4-xg"
      },
      "source": [
        "## Error Analysis"
      ],
      "id": "4H5USppf4-xg"
    },
    {
      "cell_type": "code",
      "metadata": {
        "id": "wB2iF1lB4-xg",
        "colab": {
          "base_uri": "https://localhost:8080/",
          "height": 204
        },
        "outputId": "ab181ef1-7deb-4d6f-b362-7540755236dc"
      },
      "source": [
        "get_binary_error_analysis(X_test_prepared, y_test, mod_rf, only_show_error=True).head(5)"
      ],
      "id": "wB2iF1lB4-xg",
      "execution_count": 23,
      "outputs": [
        {
          "output_type": "execute_result",
          "data": {
            "text/html": [
              "<div>\n",
              "<style scoped>\n",
              "    .dataframe tbody tr th:only-of-type {\n",
              "        vertical-align: middle;\n",
              "    }\n",
              "\n",
              "    .dataframe tbody tr th {\n",
              "        vertical-align: top;\n",
              "    }\n",
              "\n",
              "    .dataframe thead th {\n",
              "        text-align: right;\n",
              "    }\n",
              "</style>\n",
              "<table border=\"1\" class=\"dataframe\">\n",
              "  <thead>\n",
              "    <tr style=\"text-align: right;\">\n",
              "      <th></th>\n",
              "      <th>x0_male</th>\n",
              "      <th>Pclass</th>\n",
              "      <th>Age</th>\n",
              "      <th>Fare</th>\n",
              "      <th>class1_prob</th>\n",
              "      <th>pred_class</th>\n",
              "      <th>actual_class</th>\n",
              "      <th>loss</th>\n",
              "    </tr>\n",
              "  </thead>\n",
              "  <tbody>\n",
              "    <tr>\n",
              "      <th>0</th>\n",
              "      <td>1.0</td>\n",
              "      <td>2.0</td>\n",
              "      <td>62.0</td>\n",
              "      <td>10.5000</td>\n",
              "      <td>0.00</td>\n",
              "      <td>0</td>\n",
              "      <td>1</td>\n",
              "      <td>18.420681</td>\n",
              "    </tr>\n",
              "    <tr>\n",
              "      <th>1</th>\n",
              "      <td>1.0</td>\n",
              "      <td>3.0</td>\n",
              "      <td>20.0</td>\n",
              "      <td>15.7417</td>\n",
              "      <td>0.00</td>\n",
              "      <td>0</td>\n",
              "      <td>1</td>\n",
              "      <td>18.420681</td>\n",
              "    </tr>\n",
              "    <tr>\n",
              "      <th>2</th>\n",
              "      <td>0.0</td>\n",
              "      <td>2.0</td>\n",
              "      <td>44.0</td>\n",
              "      <td>26.0000</td>\n",
              "      <td>1.00</td>\n",
              "      <td>1</td>\n",
              "      <td>0</td>\n",
              "      <td>18.420681</td>\n",
              "    </tr>\n",
              "    <tr>\n",
              "      <th>3</th>\n",
              "      <td>0.0</td>\n",
              "      <td>1.0</td>\n",
              "      <td>25.0</td>\n",
              "      <td>151.5500</td>\n",
              "      <td>1.00</td>\n",
              "      <td>1</td>\n",
              "      <td>0</td>\n",
              "      <td>18.420681</td>\n",
              "    </tr>\n",
              "    <tr>\n",
              "      <th>4</th>\n",
              "      <td>0.0</td>\n",
              "      <td>1.0</td>\n",
              "      <td>2.0</td>\n",
              "      <td>151.5500</td>\n",
              "      <td>0.99</td>\n",
              "      <td>1</td>\n",
              "      <td>0</td>\n",
              "      <td>4.605170</td>\n",
              "    </tr>\n",
              "  </tbody>\n",
              "</table>\n",
              "</div>"
            ],
            "text/plain": [
              "   x0_male  Pclass   Age  ...  pred_class  actual_class       loss\n",
              "0      1.0     2.0  62.0  ...           0             1  18.420681\n",
              "1      1.0     3.0  20.0  ...           0             1  18.420681\n",
              "2      0.0     2.0  44.0  ...           1             0  18.420681\n",
              "3      0.0     1.0  25.0  ...           1             0  18.420681\n",
              "4      0.0     1.0   2.0  ...           1             0   4.605170\n",
              "\n",
              "[5 rows x 8 columns]"
            ]
          },
          "metadata": {},
          "execution_count": 23
        }
      ]
    },
    {
      "cell_type": "markdown",
      "metadata": {
        "id": "EIIg7wDS4-xh"
      },
      "source": [
        "## Explain the Model"
      ],
      "id": "EIIg7wDS4-xh"
    },
    {
      "cell_type": "markdown",
      "metadata": {
        "id": "SZPaqqs44-xh"
      },
      "source": [
        "### Random Forest Feature Importance"
      ],
      "id": "SZPaqqs44-xh"
    },
    {
      "cell_type": "code",
      "metadata": {
        "id": "VunTsTrL4-xh",
        "colab": {
          "base_uri": "https://localhost:8080/",
          "height": 0
        },
        "outputId": "f986eb28-3fb3-493d-95ab-5eb64c8e6f39"
      },
      "source": [
        "get_feature_imp(X_train_prepared, mod_rf)"
      ],
      "id": "VunTsTrL4-xh",
      "execution_count": 24,
      "outputs": [
        {
          "output_type": "execute_result",
          "data": {
            "text/html": [
              "<div>\n",
              "<style scoped>\n",
              "    .dataframe tbody tr th:only-of-type {\n",
              "        vertical-align: middle;\n",
              "    }\n",
              "\n",
              "    .dataframe tbody tr th {\n",
              "        vertical-align: top;\n",
              "    }\n",
              "\n",
              "    .dataframe thead th {\n",
              "        text-align: right;\n",
              "    }\n",
              "</style>\n",
              "<table border=\"1\" class=\"dataframe\">\n",
              "  <thead>\n",
              "    <tr style=\"text-align: right;\">\n",
              "      <th></th>\n",
              "      <th>name</th>\n",
              "      <th>score</th>\n",
              "    </tr>\n",
              "  </thead>\n",
              "  <tbody>\n",
              "    <tr>\n",
              "      <th>0</th>\n",
              "      <td>Fare</td>\n",
              "      <td>0.349930</td>\n",
              "    </tr>\n",
              "    <tr>\n",
              "      <th>1</th>\n",
              "      <td>Age</td>\n",
              "      <td>0.288805</td>\n",
              "    </tr>\n",
              "    <tr>\n",
              "      <th>2</th>\n",
              "      <td>x0_male</td>\n",
              "      <td>0.254109</td>\n",
              "    </tr>\n",
              "    <tr>\n",
              "      <th>3</th>\n",
              "      <td>Pclass</td>\n",
              "      <td>0.107155</td>\n",
              "    </tr>\n",
              "  </tbody>\n",
              "</table>\n",
              "</div>"
            ],
            "text/plain": [
              "      name     score\n",
              "0     Fare  0.349930\n",
              "1      Age  0.288805\n",
              "2  x0_male  0.254109\n",
              "3   Pclass  0.107155"
            ]
          },
          "metadata": {},
          "execution_count": 24
        }
      ]
    },
    {
      "cell_type": "markdown",
      "metadata": {
        "id": "8O_tbl3M4-xh"
      },
      "source": [
        "### Permutation Feature Importance"
      ],
      "id": "8O_tbl3M4-xh"
    },
    {
      "cell_type": "markdown",
      "metadata": {
        "id": "Ts42YFnJywiU"
      },
      "source": [
        "Learn more about it [here](https://scikit-learn.org/stable/modules/permutation_importance.html)."
      ],
      "id": "Ts42YFnJywiU"
    },
    {
      "cell_type": "code",
      "metadata": {
        "id": "bq-r8IKk4-xh"
      },
      "source": [
        "df_permute, permute_result = get_permute_imp_df(mod_rf, X_test_prepared, y_test, return_full_result=True)"
      ],
      "id": "bq-r8IKk4-xh",
      "execution_count": 25,
      "outputs": []
    },
    {
      "cell_type": "code",
      "metadata": {
        "id": "I-AQ-DVq4-xh",
        "colab": {
          "base_uri": "https://localhost:8080/",
          "height": 0
        },
        "outputId": "6878560d-cf10-46e1-9199-fa88c6d93158"
      },
      "source": [
        "df_permute"
      ],
      "id": "I-AQ-DVq4-xh",
      "execution_count": 26,
      "outputs": [
        {
          "output_type": "execute_result",
          "data": {
            "text/html": [
              "<div>\n",
              "<style scoped>\n",
              "    .dataframe tbody tr th:only-of-type {\n",
              "        vertical-align: middle;\n",
              "    }\n",
              "\n",
              "    .dataframe tbody tr th {\n",
              "        vertical-align: top;\n",
              "    }\n",
              "\n",
              "    .dataframe thead th {\n",
              "        text-align: right;\n",
              "    }\n",
              "</style>\n",
              "<table border=\"1\" class=\"dataframe\">\n",
              "  <thead>\n",
              "    <tr style=\"text-align: right;\">\n",
              "      <th></th>\n",
              "      <th>name</th>\n",
              "      <th>importance_mean</th>\n",
              "      <th>importance_std</th>\n",
              "    </tr>\n",
              "  </thead>\n",
              "  <tbody>\n",
              "    <tr>\n",
              "      <th>0</th>\n",
              "      <td>x0_male</td>\n",
              "      <td>0.211659</td>\n",
              "      <td>0.031120</td>\n",
              "    </tr>\n",
              "    <tr>\n",
              "      <th>1</th>\n",
              "      <td>Pclass</td>\n",
              "      <td>0.103139</td>\n",
              "      <td>0.012684</td>\n",
              "    </tr>\n",
              "    <tr>\n",
              "      <th>2</th>\n",
              "      <td>Fare</td>\n",
              "      <td>0.081614</td>\n",
              "      <td>0.017344</td>\n",
              "    </tr>\n",
              "    <tr>\n",
              "      <th>3</th>\n",
              "      <td>Age</td>\n",
              "      <td>0.069955</td>\n",
              "      <td>0.018071</td>\n",
              "    </tr>\n",
              "  </tbody>\n",
              "</table>\n",
              "</div>"
            ],
            "text/plain": [
              "      name  importance_mean  importance_std\n",
              "0  x0_male         0.211659        0.031120\n",
              "1   Pclass         0.103139        0.012684\n",
              "2     Fare         0.081614        0.017344\n",
              "3      Age         0.069955        0.018071"
            ]
          },
          "metadata": {},
          "execution_count": 26
        }
      ]
    },
    {
      "cell_type": "code",
      "metadata": {
        "id": "MH3vOKm54-xh",
        "colab": {
          "base_uri": "https://localhost:8080/",
          "height": 0
        },
        "outputId": "a2358f5a-b8a9-430e-9fb0-085c70f79006"
      },
      "source": [
        "plot_permute_imp(X_test_prepared, permute_result)"
      ],
      "id": "MH3vOKm54-xh",
      "execution_count": 27,
      "outputs": [
        {
          "output_type": "display_data",
          "data": {
            "image/png": "[encoded data removed]",
            "text/plain": [
              "<Figure size 432x288 with 1 Axes>"
            ]
          },
          "metadata": {
            "needs_background": "light"
          }
        }
      ]
    },
    {
      "cell_type": "markdown",
      "metadata": {
        "id": "oITV3CGc4-xh"
      },
      "source": [
        "### Surrogate Tree"
      ],
      "id": "oITV3CGc4-xh"
    },
    {
      "cell_type": "markdown",
      "metadata": {
        "id": "UJwyun56ywiU"
      },
      "source": [
        "See [here](https://christophm.github.io/interpretable-ml-book/global.html) for the idea behind surrogate tree."
      ],
      "id": "UJwyun56ywiU"
    },
    {
      "cell_type": "code",
      "metadata": {
        "id": "4xTIsxF84-xh"
      },
      "source": [
        "y_train_surr = mod_rf.predict(X_train_prepared)"
      ],
      "id": "4xTIsxF84-xh",
      "execution_count": 28,
      "outputs": []
    },
    {
      "cell_type": "code",
      "metadata": {
        "id": "3WJpBb1d4-xi",
        "colab": {
          "base_uri": "https://localhost:8080/"
        },
        "outputId": "72b63411-76b2-4603-f633-c72cbcece3c1"
      },
      "source": [
        "cv_dt_acc = find_dt_clf_max_depth(X_train_prepared, y_train, max_depth_range=range(1, 20))\n",
        "cv_dt_acc"
      ],
      "id": "3WJpBb1d4-xi",
      "execution_count": 29,
      "outputs": [
        {
          "output_type": "execute_result",
          "data": {
            "text/plain": [
              "array([0.77688226, 0.77538076, 0.80083896, 0.8127971 , 0.78734564,\n",
              "       0.79482622, 0.78589801, 0.77388599, 0.78136657, 0.78138677,\n",
              "       0.77390619, 0.76938822, 0.75743681, 0.76193458, 0.75893158,\n",
              "       0.75594204, 0.75294577, 0.75294577, 0.75294577])"
            ]
          },
          "metadata": {},
          "execution_count": 29
        }
      ]
    },
    {
      "cell_type": "code",
      "metadata": {
        "id": "kXYn1rNJ4-xi"
      },
      "source": [
        "mod_dt_surr = DecisionTreeClassifier(max_depth=3).fit(X_train_prepared, y_train_surr)"
      ],
      "id": "kXYn1rNJ4-xi",
      "execution_count": 30,
      "outputs": []
    },
    {
      "cell_type": "code",
      "metadata": {
        "id": "NXgXjGkM4-xi",
        "colab": {
          "base_uri": "https://localhost:8080/"
        },
        "outputId": "d4824c72-1b92-4b24-d901-45e3758d1dd8"
      },
      "source": [
        "mod_dt_surr"
      ],
      "id": "NXgXjGkM4-xi",
      "execution_count": 31,
      "outputs": [
        {
          "output_type": "execute_result",
          "data": {
            "text/plain": [
              "DecisionTreeClassifier(max_depth=3)"
            ]
          },
          "metadata": {},
          "execution_count": 31
        }
      ]
    },
    {
      "cell_type": "code",
      "metadata": {
        "id": "dK5aP1414-xi",
        "colab": {
          "base_uri": "https://localhost:8080/",
          "height": 0
        },
        "outputId": "a16a8c0a-168a-4495-9c92-e62367df3053"
      },
      "source": [
        "fig = plt.figure(figsize=(15, 10))\n",
        "_ = plot_tree(mod_dt_surr, feature_names=X_test_prepared.columns, filled=True, fontsize=10)"
      ],
      "id": "dK5aP1414-xi",
      "execution_count": 32,
      "outputs": [
        {
          "output_type": "display_data",
          "data": {
            "image/png": "[encoded data removed]",
            "text/plain": [
              "<Figure size 1080x720 with 1 Axes>"
            ]
          },
          "metadata": {
            "needs_background": "light"
          }
        }
      ]
    },
    {
      "cell_type": "markdown",
      "metadata": {
        "id": "Htaajov-4-xi"
      },
      "source": [
        "### Tree Interpreter"
      ],
      "id": "Htaajov-4-xi"
    },
    {
      "cell_type": "markdown",
      "metadata": {
        "id": "VSM_blWuywiV"
      },
      "source": [
        "See the [package repo](https://github.com/andosa/treeinterpreter)."
      ],
      "id": "VSM_blWuywiV"
    },
    {
      "cell_type": "code",
      "metadata": {
        "id": "YAS-oHOx4-xi",
        "colab": {
          "base_uri": "https://localhost:8080/",
          "height": 0
        },
        "outputId": "765a99c4-50ed-4817-a603-1ef98f4c07e1"
      },
      "source": [
        "instance = X_test_prepared.iloc[[18], :]\n",
        "instance"
      ],
      "id": "YAS-oHOx4-xi",
      "execution_count": 33,
      "outputs": [
        {
          "output_type": "execute_result",
          "data": {
            "text/html": [
              "<div>\n",
              "<style scoped>\n",
              "    .dataframe tbody tr th:only-of-type {\n",
              "        vertical-align: middle;\n",
              "    }\n",
              "\n",
              "    .dataframe tbody tr th {\n",
              "        vertical-align: top;\n",
              "    }\n",
              "\n",
              "    .dataframe thead th {\n",
              "        text-align: right;\n",
              "    }\n",
              "</style>\n",
              "<table border=\"1\" class=\"dataframe\">\n",
              "  <thead>\n",
              "    <tr style=\"text-align: right;\">\n",
              "      <th></th>\n",
              "      <th>x0_male</th>\n",
              "      <th>Pclass</th>\n",
              "      <th>Age</th>\n",
              "      <th>Fare</th>\n",
              "    </tr>\n",
              "  </thead>\n",
              "  <tbody>\n",
              "    <tr>\n",
              "      <th>18</th>\n",
              "      <td>1.0</td>\n",
              "      <td>1.0</td>\n",
              "      <td>61.0</td>\n",
              "      <td>33.5</td>\n",
              "    </tr>\n",
              "  </tbody>\n",
              "</table>\n",
              "</div>"
            ],
            "text/plain": [
              "    x0_male  Pclass   Age  Fare\n",
              "18      1.0     1.0  61.0  33.5"
            ]
          },
          "metadata": {},
          "execution_count": 33
        }
      ]
    },
    {
      "cell_type": "code",
      "metadata": {
        "id": "AS9ny4cJ4-xi",
        "colab": {
          "base_uri": "https://localhost:8080/",
          "height": 0
        },
        "outputId": "2c5875f9-b6ca-4473-ed7f-5a152cc29d1f"
      },
      "source": [
        "plot_single_instance_explaination(mod_rf, instance)"
      ],
      "id": "AS9ny4cJ4-xi",
      "execution_count": 34,
      "outputs": [
        {
          "output_type": "display_data",
          "data": {
            "text/html": [
              "<html>\n",
              "<head><meta charset=\"utf-8\" /></head>\n",
              "<body>\n",
              "    <div>\n",
              "            <script src=\"https://cdnjs.cloudflare.com/ajax/libs/mathjax/2.7.5/MathJax.js?config=TeX-AMS-MML_SVG\"></script><script type=\"text/javascript\">if (window.MathJax) {MathJax.Hub.Config({SVG: {font: \"STIX-Web\"}});}</script>\n",
              "                <script type=\"text/javascript\">window.PlotlyConfig = {MathJaxConfig: 'local'};</script>\n",
              "        <script src=\"https://cdn.plot.ly/plotly-latest.min.js\"></script>    \n",
              "            <div id=\"023b9712-9f9d-4cb5-bb05-85dd139a9c09\" class=\"plotly-graph-div\" style=\"height:525px; width:100%;\"></div>\n",
              "            <script type=\"text/javascript\">\n",
              "                \n",
              "                    window.PLOTLYENV=window.PLOTLYENV || {};\n",
              "                    \n",
              "                if (document.getElementById(\"023b9712-9f9d-4cb5-bb05-85dd139a9c09\")) {\n",
              "                    Plotly.newPlot(\n",
              "                        '023b9712-9f9d-4cb5-bb05-85dd139a9c09',\n",
              "                        [{\"measure\": [\"absolute\", \"relative\", \"relative\", \"relative\", \"relative\", \"total\"], \"orientation\": \"v\", \"type\": \"waterfall\", \"x\": [\"start\", \"x0_male\", \"Pclass\", \"Age\", \"Fare\", \"final_prediction\"], \"y\": [0.6223502994011978, 0.19761478811671307, -0.13701189432092659, 0.23717003003570253, -0.04012322323268655, 0.88]}],\n",
              "                        {\"template\": {\"data\": {\"bar\": [{\"error_x\": {\"color\": \"#2a3f5f\"}, \"error_y\": {\"color\": \"#2a3f5f\"}, \"marker\": {\"line\": {\"color\": \"#E5ECF6\", \"width\": 0.5}}, \"type\": \"bar\"}], \"barpolar\": [{\"marker\": {\"line\": {\"color\": \"#E5ECF6\", \"width\": 0.5}}, \"type\": \"barpolar\"}], \"carpet\": [{\"aaxis\": {\"endlinecolor\": \"#2a3f5f\", \"gridcolor\": \"white\", \"linecolor\": \"white\", \"minorgridcolor\": \"white\", \"startlinecolor\": \"#2a3f5f\"}, \"baxis\": {\"endlinecolor\": \"#2a3f5f\", \"gridcolor\": \"white\", \"linecolor\": \"white\", \"minorgridcolor\": \"white\", \"startlinecolor\": \"#2a3f5f\"}, \"type\": \"carpet\"}], \"choropleth\": [{\"colorbar\": {\"outlinewidth\": 0, \"ticks\": \"\"}, \"type\": \"choropleth\"}], \"contour\": [{\"colorbar\": {\"outlinewidth\": 0, \"ticks\": \"\"}, \"colorscale\": [[0.0, \"#0d0887\"], [0.1111111111111111, \"#46039f\"], [0.2222222222222222, \"#7201a8\"], [0.3333333333333333, \"#9c179e\"], [0.4444444444444444, \"#bd3786\"], [0.5555555555555556, \"#d8576b\"], [0.6666666666666666, \"#ed7953\"], [0.7777777777777778, \"#fb9f3a\"], [0.8888888888888888, \"#fdca26\"], [1.0, \"#f0f921\"]], \"type\": \"contour\"}], \"contourcarpet\": [{\"colorbar\": {\"outlinewidth\": 0, \"ticks\": \"\"}, \"type\": \"contourcarpet\"}], \"heatmap\": [{\"colorbar\": {\"outlinewidth\": 0, \"ticks\": \"\"}, \"colorscale\": [[0.0, \"#0d0887\"], [0.1111111111111111, \"#46039f\"], [0.2222222222222222, \"#7201a8\"], [0.3333333333333333, \"#9c179e\"], [0.4444444444444444, \"#bd3786\"], [0.5555555555555556, \"#d8576b\"], [0.6666666666666666, \"#ed7953\"], [0.7777777777777778, \"#fb9f3a\"], [0.8888888888888888, \"#fdca26\"], [1.0, \"#f0f921\"]], \"type\": \"heatmap\"}], \"heatmapgl\": [{\"colorbar\": {\"outlinewidth\": 0, \"ticks\": \"\"}, \"colorscale\": [[0.0, \"#0d0887\"], [0.1111111111111111, \"#46039f\"], [0.2222222222222222, \"#7201a8\"], [0.3333333333333333, \"#9c179e\"], [0.4444444444444444, \"#bd3786\"], [0.5555555555555556, \"#d8576b\"], [0.6666666666666666, \"#ed7953\"], [0.7777777777777778, \"#fb9f3a\"], [0.8888888888888888, \"#fdca26\"], [1.0, \"#f0f921\"]], \"type\": \"heatmapgl\"}], \"histogram\": [{\"marker\": {\"colorbar\": {\"outlinewidth\": 0, \"ticks\": \"\"}}, \"type\": \"histogram\"}], \"histogram2d\": [{\"colorbar\": {\"outlinewidth\": 0, \"ticks\": \"\"}, \"colorscale\": [[0.0, \"#0d0887\"], [0.1111111111111111, \"#46039f\"], [0.2222222222222222, \"#7201a8\"], [0.3333333333333333, \"#9c179e\"], [0.4444444444444444, \"#bd3786\"], [0.5555555555555556, \"#d8576b\"], [0.6666666666666666, \"#ed7953\"], [0.7777777777777778, \"#fb9f3a\"], [0.8888888888888888, \"#fdca26\"], [1.0, \"#f0f921\"]], \"type\": \"histogram2d\"}], \"histogram2dcontour\": [{\"colorbar\": {\"outlinewidth\": 0, \"ticks\": \"\"}, \"colorscale\": [[0.0, \"#0d0887\"], [0.1111111111111111, \"#46039f\"], [0.2222222222222222, \"#7201a8\"], [0.3333333333333333, \"#9c179e\"], [0.4444444444444444, \"#bd3786\"], [0.5555555555555556, \"#d8576b\"], [0.6666666666666666, \"#ed7953\"], [0.7777777777777778, \"#fb9f3a\"], [0.8888888888888888, \"#fdca26\"], [1.0, \"#f0f921\"]], \"type\": \"histogram2dcontour\"}], \"mesh3d\": [{\"colorbar\": {\"outlinewidth\": 0, \"ticks\": \"\"}, \"type\": \"mesh3d\"}], \"parcoords\": [{\"line\": {\"colorbar\": {\"outlinewidth\": 0, \"ticks\": \"\"}}, \"type\": \"parcoords\"}], \"pie\": [{\"automargin\": true, \"type\": \"pie\"}], \"scatter\": [{\"marker\": {\"colorbar\": {\"outlinewidth\": 0, \"ticks\": \"\"}}, \"type\": \"scatter\"}], \"scatter3d\": [{\"line\": {\"colorbar\": {\"outlinewidth\": 0, \"ticks\": \"\"}}, \"marker\": {\"colorbar\": {\"outlinewidth\": 0, \"ticks\": \"\"}}, \"type\": \"scatter3d\"}], \"scattercarpet\": [{\"marker\": {\"colorbar\": {\"outlinewidth\": 0, \"ticks\": \"\"}}, \"type\": \"scattercarpet\"}], \"scattergeo\": [{\"marker\": {\"colorbar\": {\"outlinewidth\": 0, \"ticks\": \"\"}}, \"type\": \"scattergeo\"}], \"scattergl\": [{\"marker\": {\"colorbar\": {\"outlinewidth\": 0, \"ticks\": \"\"}}, \"type\": \"scattergl\"}], \"scattermapbox\": [{\"marker\": {\"colorbar\": {\"outlinewidth\": 0, \"ticks\": \"\"}}, \"type\": \"scattermapbox\"}], \"scatterpolar\": [{\"marker\": {\"colorbar\": {\"outlinewidth\": 0, \"ticks\": \"\"}}, \"type\": \"scatterpolar\"}], \"scatterpolargl\": [{\"marker\": {\"colorbar\": {\"outlinewidth\": 0, \"ticks\": \"\"}}, \"type\": \"scatterpolargl\"}], \"scatterternary\": [{\"marker\": {\"colorbar\": {\"outlinewidth\": 0, \"ticks\": \"\"}}, \"type\": \"scatterternary\"}], \"surface\": [{\"colorbar\": {\"outlinewidth\": 0, \"ticks\": \"\"}, \"colorscale\": [[0.0, \"#0d0887\"], [0.1111111111111111, \"#46039f\"], [0.2222222222222222, \"#7201a8\"], [0.3333333333333333, \"#9c179e\"], [0.4444444444444444, \"#bd3786\"], [0.5555555555555556, \"#d8576b\"], [0.6666666666666666, \"#ed7953\"], [0.7777777777777778, \"#fb9f3a\"], [0.8888888888888888, \"#fdca26\"], [1.0, \"#f0f921\"]], \"type\": \"surface\"}], \"table\": [{\"cells\": {\"fill\": {\"color\": \"#EBF0F8\"}, \"line\": {\"color\": \"white\"}}, \"header\": {\"fill\": {\"color\": \"#C8D4E3\"}, \"line\": {\"color\": \"white\"}}, \"type\": \"table\"}]}, \"layout\": {\"annotationdefaults\": {\"arrowcolor\": \"#2a3f5f\", \"arrowhead\": 0, \"arrowwidth\": 1}, \"coloraxis\": {\"colorbar\": {\"outlinewidth\": 0, \"ticks\": \"\"}}, \"colorscale\": {\"diverging\": [[0, \"#8e0152\"], [0.1, \"#c51b7d\"], [0.2, \"#de77ae\"], [0.3, \"#f1b6da\"], [0.4, \"#fde0ef\"], [0.5, \"#f7f7f7\"], [0.6, \"#e6f5d0\"], [0.7, \"#b8e186\"], [0.8, \"#7fbc41\"], [0.9, \"#4d9221\"], [1, \"#276419\"]], \"sequential\": [[0.0, \"#0d0887\"], [0.1111111111111111, \"#46039f\"], [0.2222222222222222, \"#7201a8\"], [0.3333333333333333, \"#9c179e\"], [0.4444444444444444, \"#bd3786\"], [0.5555555555555556, \"#d8576b\"], [0.6666666666666666, \"#ed7953\"], [0.7777777777777778, \"#fb9f3a\"], [0.8888888888888888, \"#fdca26\"], [1.0, \"#f0f921\"]], \"sequentialminus\": [[0.0, \"#0d0887\"], [0.1111111111111111, \"#46039f\"], [0.2222222222222222, \"#7201a8\"], [0.3333333333333333, \"#9c179e\"], [0.4444444444444444, \"#bd3786\"], [0.5555555555555556, \"#d8576b\"], [0.6666666666666666, \"#ed7953\"], [0.7777777777777778, \"#fb9f3a\"], [0.8888888888888888, \"#fdca26\"], [1.0, \"#f0f921\"]]}, \"colorway\": [\"#636efa\", \"#EF553B\", \"#00cc96\", \"#ab63fa\", \"#FFA15A\", \"#19d3f3\", \"#FF6692\", \"#B6E880\", \"#FF97FF\", \"#FECB52\"], \"font\": {\"color\": \"#2a3f5f\"}, \"geo\": {\"bgcolor\": \"white\", \"lakecolor\": \"white\", \"landcolor\": \"#E5ECF6\", \"showlakes\": true, \"showland\": true, \"subunitcolor\": \"white\"}, \"hoverlabel\": {\"align\": \"left\"}, \"hovermode\": \"closest\", \"mapbox\": {\"style\": \"light\"}, \"paper_bgcolor\": \"white\", \"plot_bgcolor\": \"#E5ECF6\", \"polar\": {\"angularaxis\": {\"gridcolor\": \"white\", \"linecolor\": \"white\", \"ticks\": \"\"}, \"bgcolor\": \"#E5ECF6\", \"radialaxis\": {\"gridcolor\": \"white\", \"linecolor\": \"white\", \"ticks\": \"\"}}, \"scene\": {\"xaxis\": {\"backgroundcolor\": \"#E5ECF6\", \"gridcolor\": \"white\", \"gridwidth\": 2, \"linecolor\": \"white\", \"showbackground\": true, \"ticks\": \"\", \"zerolinecolor\": \"white\"}, \"yaxis\": {\"backgroundcolor\": \"#E5ECF6\", \"gridcolor\": \"white\", \"gridwidth\": 2, \"linecolor\": \"white\", \"showbackground\": true, \"ticks\": \"\", \"zerolinecolor\": \"white\"}, \"zaxis\": {\"backgroundcolor\": \"#E5ECF6\", \"gridcolor\": \"white\", \"gridwidth\": 2, \"linecolor\": \"white\", \"showbackground\": true, \"ticks\": \"\", \"zerolinecolor\": \"white\"}}, \"shapedefaults\": {\"line\": {\"color\": \"#2a3f5f\"}}, \"ternary\": {\"aaxis\": {\"gridcolor\": \"white\", \"linecolor\": \"white\", \"ticks\": \"\"}, \"baxis\": {\"gridcolor\": \"white\", \"linecolor\": \"white\", \"ticks\": \"\"}, \"bgcolor\": \"#E5ECF6\", \"caxis\": {\"gridcolor\": \"white\", \"linecolor\": \"white\", \"ticks\": \"\"}}, \"title\": {\"x\": 0.05}, \"xaxis\": {\"automargin\": true, \"gridcolor\": \"white\", \"linecolor\": \"white\", \"ticks\": \"\", \"title\": {\"standoff\": 15}, \"zerolinecolor\": \"white\", \"zerolinewidth\": 2}, \"yaxis\": {\"automargin\": true, \"gridcolor\": \"white\", \"linecolor\": \"white\", \"ticks\": \"\", \"title\": {\"standoff\": 15}, \"zerolinecolor\": \"white\", \"zerolinewidth\": 2}}}},\n",
              "                        {\"responsive\": true}\n",
              "                    ).then(function(){\n",
              "                            \n",
              "var gd = document.getElementById('023b9712-9f9d-4cb5-bb05-85dd139a9c09');\n",
              "var x = new MutationObserver(function (mutations, observer) {{\n",
              "        var display = window.getComputedStyle(gd).display;\n",
              "        if (!display || display === 'none') {{\n",
              "            console.log([gd, 'removed!']);\n",
              "            Plotly.purge(gd);\n",
              "            observer.disconnect();\n",
              "        }}\n",
              "}});\n",
              "\n",
              "// Listen for the removal of the full notebook cells\n",
              "var notebookContainer = gd.closest('#notebook-container');\n",
              "if (notebookContainer) {{\n",
              "    x.observe(notebookContainer, {childList: true});\n",
              "}}\n",
              "\n",
              "// Listen for the clearing of the current output cell\n",
              "var outputEl = gd.closest('.output');\n",
              "if (outputEl) {{\n",
              "    x.observe(outputEl, {childList: true});\n",
              "}}\n",
              "\n",
              "                        })\n",
              "                };\n",
              "                \n",
              "            </script>\n",
              "        </div>\n",
              "</body>\n",
              "</html>"
            ]
          },
          "metadata": {}
        }
      ]
    },
    {
      "cell_type": "code",
      "metadata": {
        "id": "yhb8SgRQ6mdP"
      },
      "source": [
        ""
      ],
      "id": "yhb8SgRQ6mdP",
      "execution_count": 34,
      "outputs": []
    }
  ]
}