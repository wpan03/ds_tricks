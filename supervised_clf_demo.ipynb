{
  "nbformat": 4,
  "nbformat_minor": 5,
  "metadata": {
    "interpreter": {
      "hash": "718bf85f3541632ea84dad26eb3650b79d1ee7e1ee55997bfbe797dc2dd7c243"
    },
    "kernelspec": {
      "name": "python3",
      "display_name": "Python 3.7.9 64-bit ('base': conda)"
    },
    "language_info": {
      "codemirror_mode": {
        "name": "ipython",
        "version": 3
      },
      "file_extension": ".py",
      "mimetype": "text/x-python",
      "name": "python",
      "nbconvert_exporter": "python",
      "pygments_lexer": "ipython3",
      "version": "3.7.9"
    },
    "colab": {
      "name": "supervised_clf_demo.ipynb",
      "provenance": [],
      "toc_visible": true
    }
  },
  "cells": [
    {
      "cell_type": "code",
      "execution_count": 1,
      "source": [
        "try:\n",
        "    # %tensorflow_version only exists in Colab.\n",
        "    %tensorflow_version 2.x\n",
        "    IS_COLAB = True\n",
        "except Exception:\n",
        "    IS_COLAB = False\n",
        "\n",
        "if IS_COLAB:\n",
        "    !git clone https://github.com/wpan03/quick_ds_python.git\n",
        "    !mv quick_ds_python/* .\n",
        "    !pip install treeinterpreter==0.2.3\n",
        "else:\n",
        "    %load_ext autoreload\n",
        "    %autoreload 2"
      ],
      "outputs": [],
      "metadata": {
        "id": "_5nV0jzo4_v6",
        "outputId": "944b964d-bffe-44b7-b388-aaa72ae4f901",
        "colab": {
          "base_uri": "https://localhost:8080/"
        }
      }
    },
    {
      "cell_type": "code",
      "execution_count": 2,
      "source": [
        "import numpy as np\n",
        "import pandas as pd\n",
        "import matplotlib.pyplot as plt\n",
        "from sklearn import preprocessing\n",
        "from sklearn.tree import DecisionTreeClassifier, plot_tree\n",
        "from sklearn.ensemble import RandomForestClassifier\n",
        "from sklearn.model_selection import train_test_split\n",
        "from sklearn.impute import SimpleImputer\n",
        "\n",
        "from src.eda import see_missing, plot_corr_heatmap, get_freq_table\n",
        "from src.preprocess import get_x_y, get_preprocessor, do_transform\n",
        "from src.evaluate import binary_evaluation, binary_cross_evaluate\n",
        "from src.explain import (get_feature_imp, get_permute_imp_df, plot_permute_imp,\n",
        "                         get_binary_error_analysis, plot_single_instance_explaination)\n",
        "from src.model_supervised import find_dt_clf_max_depth\n"
      ],
      "outputs": [],
      "metadata": {
        "id": "UMEDBjHW4-xY"
      }
    },
    {
      "cell_type": "code",
      "execution_count": 3,
      "source": [
        "df = pd.read_csv('https://raw.githubusercontent.com/wpan03/quick_ds_python/master/data/titanic_train.csv')"
      ],
      "outputs": [],
      "metadata": {
        "id": "xECxDgBB4-xZ"
      }
    },
    {
      "cell_type": "markdown",
      "source": [
        "## EDA"
      ],
      "metadata": {
        "id": "Vfd5L0K84-xZ"
      }
    },
    {
      "cell_type": "code",
      "execution_count": 4,
      "source": [
        "df.head()"
      ],
      "outputs": [
        {
          "output_type": "execute_result",
          "data": {
            "text/plain": [
              "   PassengerId  Survived  Pclass  \\\n",
              "0            1         0       3   \n",
              "1            2         1       1   \n",
              "2            3         1       3   \n",
              "3            4         1       1   \n",
              "4            5         0       3   \n",
              "\n",
              "                                                Name     Sex   Age  SibSp  \\\n",
              "0                            Braund, Mr. Owen Harris    male  22.0      1   \n",
              "1  Cumings, Mrs. John Bradley (Florence Briggs Th...  female  38.0      1   \n",
              "2                             Heikkinen, Miss. Laina  female  26.0      0   \n",
              "3       Futrelle, Mrs. Jacques Heath (Lily May Peel)  female  35.0      1   \n",
              "4                           Allen, Mr. William Henry    male  35.0      0   \n",
              "\n",
              "   Parch            Ticket     Fare Cabin Embarked  \n",
              "0      0         A/5 21171   7.2500   NaN        S  \n",
              "1      0          PC 17599  71.2833   C85        C  \n",
              "2      0  STON/O2. 3101282   7.9250   NaN        S  \n",
              "3      0            113803  53.1000  C123        S  \n",
              "4      0            373450   8.0500   NaN        S  "
            ],
            "text/html": [
              "<div>\n",
              "<style scoped>\n",
              "    .dataframe tbody tr th:only-of-type {\n",
              "        vertical-align: middle;\n",
              "    }\n",
              "\n",
              "    .dataframe tbody tr th {\n",
              "        vertical-align: top;\n",
              "    }\n",
              "\n",
              "    .dataframe thead th {\n",
              "        text-align: right;\n",
              "    }\n",
              "</style>\n",
              "<table border=\"1\" class=\"dataframe\">\n",
              "  <thead>\n",
              "    <tr style=\"text-align: right;\">\n",
              "      <th></th>\n",
              "      <th>PassengerId</th>\n",
              "      <th>Survived</th>\n",
              "      <th>Pclass</th>\n",
              "      <th>Name</th>\n",
              "      <th>Sex</th>\n",
              "      <th>Age</th>\n",
              "      <th>SibSp</th>\n",
              "      <th>Parch</th>\n",
              "      <th>Ticket</th>\n",
              "      <th>Fare</th>\n",
              "      <th>Cabin</th>\n",
              "      <th>Embarked</th>\n",
              "    </tr>\n",
              "  </thead>\n",
              "  <tbody>\n",
              "    <tr>\n",
              "      <th>0</th>\n",
              "      <td>1</td>\n",
              "      <td>0</td>\n",
              "      <td>3</td>\n",
              "      <td>Braund, Mr. Owen Harris</td>\n",
              "      <td>male</td>\n",
              "      <td>22.0</td>\n",
              "      <td>1</td>\n",
              "      <td>0</td>\n",
              "      <td>A/5 21171</td>\n",
              "      <td>7.2500</td>\n",
              "      <td>NaN</td>\n",
              "      <td>S</td>\n",
              "    </tr>\n",
              "    <tr>\n",
              "      <th>1</th>\n",
              "      <td>2</td>\n",
              "      <td>1</td>\n",
              "      <td>1</td>\n",
              "      <td>Cumings, Mrs. John Bradley (Florence Briggs Th...</td>\n",
              "      <td>female</td>\n",
              "      <td>38.0</td>\n",
              "      <td>1</td>\n",
              "      <td>0</td>\n",
              "      <td>PC 17599</td>\n",
              "      <td>71.2833</td>\n",
              "      <td>C85</td>\n",
              "      <td>C</td>\n",
              "    </tr>\n",
              "    <tr>\n",
              "      <th>2</th>\n",
              "      <td>3</td>\n",
              "      <td>1</td>\n",
              "      <td>3</td>\n",
              "      <td>Heikkinen, Miss. Laina</td>\n",
              "      <td>female</td>\n",
              "      <td>26.0</td>\n",
              "      <td>0</td>\n",
              "      <td>0</td>\n",
              "      <td>STON/O2. 3101282</td>\n",
              "      <td>7.9250</td>\n",
              "      <td>NaN</td>\n",
              "      <td>S</td>\n",
              "    </tr>\n",
              "    <tr>\n",
              "      <th>3</th>\n",
              "      <td>4</td>\n",
              "      <td>1</td>\n",
              "      <td>1</td>\n",
              "      <td>Futrelle, Mrs. Jacques Heath (Lily May Peel)</td>\n",
              "      <td>female</td>\n",
              "      <td>35.0</td>\n",
              "      <td>1</td>\n",
              "      <td>0</td>\n",
              "      <td>113803</td>\n",
              "      <td>53.1000</td>\n",
              "      <td>C123</td>\n",
              "      <td>S</td>\n",
              "    </tr>\n",
              "    <tr>\n",
              "      <th>4</th>\n",
              "      <td>5</td>\n",
              "      <td>0</td>\n",
              "      <td>3</td>\n",
              "      <td>Allen, Mr. William Henry</td>\n",
              "      <td>male</td>\n",
              "      <td>35.0</td>\n",
              "      <td>0</td>\n",
              "      <td>0</td>\n",
              "      <td>373450</td>\n",
              "      <td>8.0500</td>\n",
              "      <td>NaN</td>\n",
              "      <td>S</td>\n",
              "    </tr>\n",
              "  </tbody>\n",
              "</table>\n",
              "</div>"
            ]
          },
          "metadata": {},
          "execution_count": 4
        }
      ],
      "metadata": {
        "id": "kkrQbkRY4-xZ",
        "outputId": "135b9680-24ef-4d90-a725-5ad257a12f8f",
        "colab": {
          "base_uri": "https://localhost:8080/",
          "height": 204
        }
      }
    },
    {
      "cell_type": "code",
      "execution_count": 5,
      "source": [
        "df.shape"
      ],
      "outputs": [
        {
          "output_type": "execute_result",
          "data": {
            "text/plain": [
              "(891, 12)"
            ]
          },
          "metadata": {},
          "execution_count": 5
        }
      ],
      "metadata": {
        "id": "rQOwnscI4-xa",
        "outputId": "c0c52bde-e008-4b21-d01c-cf463699b3cf",
        "colab": {
          "base_uri": "https://localhost:8080/"
        }
      }
    },
    {
      "cell_type": "code",
      "execution_count": 6,
      "source": [
        "see_missing(df, only_missing=True)"
      ],
      "outputs": [
        {
          "output_type": "execute_result",
          "data": {
            "text/plain": [
              "    columns  total_missing  percent_missing\n",
              "0     Cabin            687        77.104377\n",
              "1       Age            177        19.865320\n",
              "2  Embarked              2         0.224467"
            ],
            "text/html": [
              "<div>\n",
              "<style scoped>\n",
              "    .dataframe tbody tr th:only-of-type {\n",
              "        vertical-align: middle;\n",
              "    }\n",
              "\n",
              "    .dataframe tbody tr th {\n",
              "        vertical-align: top;\n",
              "    }\n",
              "\n",
              "    .dataframe thead th {\n",
              "        text-align: right;\n",
              "    }\n",
              "</style>\n",
              "<table border=\"1\" class=\"dataframe\">\n",
              "  <thead>\n",
              "    <tr style=\"text-align: right;\">\n",
              "      <th></th>\n",
              "      <th>columns</th>\n",
              "      <th>total_missing</th>\n",
              "      <th>percent_missing</th>\n",
              "    </tr>\n",
              "  </thead>\n",
              "  <tbody>\n",
              "    <tr>\n",
              "      <th>0</th>\n",
              "      <td>Cabin</td>\n",
              "      <td>687</td>\n",
              "      <td>77.104377</td>\n",
              "    </tr>\n",
              "    <tr>\n",
              "      <th>1</th>\n",
              "      <td>Age</td>\n",
              "      <td>177</td>\n",
              "      <td>19.865320</td>\n",
              "    </tr>\n",
              "    <tr>\n",
              "      <th>2</th>\n",
              "      <td>Embarked</td>\n",
              "      <td>2</td>\n",
              "      <td>0.224467</td>\n",
              "    </tr>\n",
              "  </tbody>\n",
              "</table>\n",
              "</div>"
            ]
          },
          "metadata": {},
          "execution_count": 6
        }
      ],
      "metadata": {
        "id": "xjr2HhQS4-xa",
        "outputId": "1f12e413-aa67-4e53-cbfb-12ee0bfbdf38",
        "colab": {
          "base_uri": "https://localhost:8080/",
          "height": 142
        }
      }
    },
    {
      "cell_type": "code",
      "execution_count": 7,
      "source": [
        "plot_corr_heatmap(df)"
      ],
      "outputs": [
        {
          "output_type": "execute_result",
          "data": {
            "text/plain": [
              "<pandas.io.formats.style.Styler at 0x1a2743dd50>"
            ],
            "text/html": [
              "<style  type=\"text/css\" >\n",
              "#T_a594d_row0_col0,#T_a594d_row1_col1,#T_a594d_row2_col2,#T_a594d_row3_col3,#T_a594d_row4_col4,#T_a594d_row5_col5,#T_a594d_row6_col6{\n",
              "            background-color:  #b40426;\n",
              "            color:  #f1f1f1;\n",
              "        }#T_a594d_row0_col1{\n",
              "            background-color:  #8caffe;\n",
              "            color:  #000000;\n",
              "        }#T_a594d_row0_col2{\n",
              "            background-color:  #a9c6fd;\n",
              "            color:  #000000;\n",
              "        }#T_a594d_row0_col3{\n",
              "            background-color:  #9dbdff;\n",
              "            color:  #000000;\n",
              "        }#T_a594d_row0_col4,#T_a594d_row3_col1{\n",
              "            background-color:  #799cf8;\n",
              "            color:  #000000;\n",
              "        }#T_a594d_row0_col5{\n",
              "            background-color:  #6c8ff1;\n",
              "            color:  #000000;\n",
              "        }#T_a594d_row0_col6{\n",
              "            background-color:  #b3cdfb;\n",
              "            color:  #000000;\n",
              "        }#T_a594d_row1_col0{\n",
              "            background-color:  #4961d2;\n",
              "            color:  #f1f1f1;\n",
              "        }#T_a594d_row1_col2{\n",
              "            background-color:  #6485ec;\n",
              "            color:  #000000;\n",
              "        }#T_a594d_row1_col3{\n",
              "            background-color:  #80a3fa;\n",
              "            color:  #000000;\n",
              "        }#T_a594d_row1_col4{\n",
              "            background-color:  #7ea1fa;\n",
              "            color:  #000000;\n",
              "        }#T_a594d_row1_col5{\n",
              "            background-color:  #85a8fc;\n",
              "            color:  #000000;\n",
              "        }#T_a594d_row1_col6{\n",
              "            background-color:  #e2dad5;\n",
              "            color:  #000000;\n",
              "        }#T_a594d_row2_col0{\n",
              "            background-color:  #4055c8;\n",
              "            color:  #f1f1f1;\n",
              "        }#T_a594d_row2_col1,#T_a594d_row2_col3,#T_a594d_row2_col6,#T_a594d_row3_col4,#T_a594d_row3_col5,#T_a594d_row4_col0,#T_a594d_row6_col2{\n",
              "            background-color:  #3b4cc0;\n",
              "            color:  #f1f1f1;\n",
              "        }#T_a594d_row2_col4{\n",
              "            background-color:  #9ebeff;\n",
              "            color:  #000000;\n",
              "        }#T_a594d_row2_col5{\n",
              "            background-color:  #7295f4;\n",
              "            color:  #000000;\n",
              "        }#T_a594d_row3_col0{\n",
              "            background-color:  #5572df;\n",
              "            color:  #000000;\n",
              "        }#T_a594d_row3_col2{\n",
              "            background-color:  #5e7de7;\n",
              "            color:  #000000;\n",
              "        }#T_a594d_row3_col6{\n",
              "            background-color:  #c5d6f2;\n",
              "            color:  #000000;\n",
              "        }#T_a594d_row4_col1{\n",
              "            background-color:  #84a7fc;\n",
              "            color:  #000000;\n",
              "        }#T_a594d_row4_col2{\n",
              "            background-color:  #c3d5f4;\n",
              "            color:  #000000;\n",
              "        }#T_a594d_row4_col3{\n",
              "            background-color:  #485fd1;\n",
              "            color:  #f1f1f1;\n",
              "        }#T_a594d_row4_col5{\n",
              "            background-color:  #dfdbd9;\n",
              "            color:  #000000;\n",
              "        }#T_a594d_row4_col6{\n",
              "            background-color:  #d2dbe8;\n",
              "            color:  #000000;\n",
              "        }#T_a594d_row5_col0{\n",
              "            background-color:  #4a63d3;\n",
              "            color:  #f1f1f1;\n",
              "        }#T_a594d_row5_col1{\n",
              "            background-color:  #a3c2fe;\n",
              "            color:  #000000;\n",
              "        }#T_a594d_row5_col2{\n",
              "            background-color:  #b5cdfa;\n",
              "            color:  #000000;\n",
              "        }#T_a594d_row5_col3{\n",
              "            background-color:  #6384eb;\n",
              "            color:  #000000;\n",
              "        }#T_a594d_row5_col4{\n",
              "            background-color:  #ead5c9;\n",
              "            color:  #000000;\n",
              "        }#T_a594d_row5_col6{\n",
              "            background-color:  #dbdcde;\n",
              "            color:  #000000;\n",
              "        }#T_a594d_row6_col0{\n",
              "            background-color:  #4e68d8;\n",
              "            color:  #000000;\n",
              "        }#T_a594d_row6_col1{\n",
              "            background-color:  #cdd9ec;\n",
              "            color:  #000000;\n",
              "        }#T_a594d_row6_col3{\n",
              "            background-color:  #abc8fd;\n",
              "            color:  #000000;\n",
              "        }#T_a594d_row6_col4{\n",
              "            background-color:  #b2ccfb;\n",
              "            color:  #000000;\n",
              "        }#T_a594d_row6_col5{\n",
              "            background-color:  #adc9fd;\n",
              "            color:  #000000;\n",
              "        }</style><table id=\"T_a594d_\" ><thead>    <tr>        <th class=\"blank level0\" ></th>        <th class=\"col_heading level0 col0\" >PassengerId</th>        <th class=\"col_heading level0 col1\" >Survived</th>        <th class=\"col_heading level0 col2\" >Pclass</th>        <th class=\"col_heading level0 col3\" >Age</th>        <th class=\"col_heading level0 col4\" >SibSp</th>        <th class=\"col_heading level0 col5\" >Parch</th>        <th class=\"col_heading level0 col6\" >Fare</th>    </tr></thead><tbody>\n",
              "                <tr>\n",
              "                        <th id=\"T_a594d_level0_row0\" class=\"row_heading level0 row0\" >PassengerId</th>\n",
              "                        <td id=\"T_a594d_row0_col0\" class=\"data row0 col0\" >1.00</td>\n",
              "                        <td id=\"T_a594d_row0_col1\" class=\"data row0 col1\" >-0.01</td>\n",
              "                        <td id=\"T_a594d_row0_col2\" class=\"data row0 col2\" >-0.04</td>\n",
              "                        <td id=\"T_a594d_row0_col3\" class=\"data row0 col3\" >0.04</td>\n",
              "                        <td id=\"T_a594d_row0_col4\" class=\"data row0 col4\" >-0.06</td>\n",
              "                        <td id=\"T_a594d_row0_col5\" class=\"data row0 col5\" >-0.00</td>\n",
              "                        <td id=\"T_a594d_row0_col6\" class=\"data row0 col6\" >0.01</td>\n",
              "            </tr>\n",
              "            <tr>\n",
              "                        <th id=\"T_a594d_level0_row1\" class=\"row_heading level0 row1\" >Survived</th>\n",
              "                        <td id=\"T_a594d_row1_col0\" class=\"data row1 col0\" >-0.01</td>\n",
              "                        <td id=\"T_a594d_row1_col1\" class=\"data row1 col1\" >1.00</td>\n",
              "                        <td id=\"T_a594d_row1_col2\" class=\"data row1 col2\" >-0.34</td>\n",
              "                        <td id=\"T_a594d_row1_col3\" class=\"data row1 col3\" >-0.08</td>\n",
              "                        <td id=\"T_a594d_row1_col4\" class=\"data row1 col4\" >-0.04</td>\n",
              "                        <td id=\"T_a594d_row1_col5\" class=\"data row1 col5\" >0.08</td>\n",
              "                        <td id=\"T_a594d_row1_col6\" class=\"data row1 col6\" >0.26</td>\n",
              "            </tr>\n",
              "            <tr>\n",
              "                        <th id=\"T_a594d_level0_row2\" class=\"row_heading level0 row2\" >Pclass</th>\n",
              "                        <td id=\"T_a594d_row2_col0\" class=\"data row2 col0\" >-0.04</td>\n",
              "                        <td id=\"T_a594d_row2_col1\" class=\"data row2 col1\" >-0.34</td>\n",
              "                        <td id=\"T_a594d_row2_col2\" class=\"data row2 col2\" >1.00</td>\n",
              "                        <td id=\"T_a594d_row2_col3\" class=\"data row2 col3\" >-0.37</td>\n",
              "                        <td id=\"T_a594d_row2_col4\" class=\"data row2 col4\" >0.08</td>\n",
              "                        <td id=\"T_a594d_row2_col5\" class=\"data row2 col5\" >0.02</td>\n",
              "                        <td id=\"T_a594d_row2_col6\" class=\"data row2 col6\" >-0.55</td>\n",
              "            </tr>\n",
              "            <tr>\n",
              "                        <th id=\"T_a594d_level0_row3\" class=\"row_heading level0 row3\" >Age</th>\n",
              "                        <td id=\"T_a594d_row3_col0\" class=\"data row3 col0\" >0.04</td>\n",
              "                        <td id=\"T_a594d_row3_col1\" class=\"data row3 col1\" >-0.08</td>\n",
              "                        <td id=\"T_a594d_row3_col2\" class=\"data row3 col2\" >-0.37</td>\n",
              "                        <td id=\"T_a594d_row3_col3\" class=\"data row3 col3\" >1.00</td>\n",
              "                        <td id=\"T_a594d_row3_col4\" class=\"data row3 col4\" >-0.31</td>\n",
              "                        <td id=\"T_a594d_row3_col5\" class=\"data row3 col5\" >-0.19</td>\n",
              "                        <td id=\"T_a594d_row3_col6\" class=\"data row3 col6\" >0.10</td>\n",
              "            </tr>\n",
              "            <tr>\n",
              "                        <th id=\"T_a594d_level0_row4\" class=\"row_heading level0 row4\" >SibSp</th>\n",
              "                        <td id=\"T_a594d_row4_col0\" class=\"data row4 col0\" >-0.06</td>\n",
              "                        <td id=\"T_a594d_row4_col1\" class=\"data row4 col1\" >-0.04</td>\n",
              "                        <td id=\"T_a594d_row4_col2\" class=\"data row4 col2\" >0.08</td>\n",
              "                        <td id=\"T_a594d_row4_col3\" class=\"data row4 col3\" >-0.31</td>\n",
              "                        <td id=\"T_a594d_row4_col4\" class=\"data row4 col4\" >1.00</td>\n",
              "                        <td id=\"T_a594d_row4_col5\" class=\"data row4 col5\" >0.41</td>\n",
              "                        <td id=\"T_a594d_row4_col6\" class=\"data row4 col6\" >0.16</td>\n",
              "            </tr>\n",
              "            <tr>\n",
              "                        <th id=\"T_a594d_level0_row5\" class=\"row_heading level0 row5\" >Parch</th>\n",
              "                        <td id=\"T_a594d_row5_col0\" class=\"data row5 col0\" >-0.00</td>\n",
              "                        <td id=\"T_a594d_row5_col1\" class=\"data row5 col1\" >0.08</td>\n",
              "                        <td id=\"T_a594d_row5_col2\" class=\"data row5 col2\" >0.02</td>\n",
              "                        <td id=\"T_a594d_row5_col3\" class=\"data row5 col3\" >-0.19</td>\n",
              "                        <td id=\"T_a594d_row5_col4\" class=\"data row5 col4\" >0.41</td>\n",
              "                        <td id=\"T_a594d_row5_col5\" class=\"data row5 col5\" >1.00</td>\n",
              "                        <td id=\"T_a594d_row5_col6\" class=\"data row5 col6\" >0.22</td>\n",
              "            </tr>\n",
              "            <tr>\n",
              "                        <th id=\"T_a594d_level0_row6\" class=\"row_heading level0 row6\" >Fare</th>\n",
              "                        <td id=\"T_a594d_row6_col0\" class=\"data row6 col0\" >0.01</td>\n",
              "                        <td id=\"T_a594d_row6_col1\" class=\"data row6 col1\" >0.26</td>\n",
              "                        <td id=\"T_a594d_row6_col2\" class=\"data row6 col2\" >-0.55</td>\n",
              "                        <td id=\"T_a594d_row6_col3\" class=\"data row6 col3\" >0.10</td>\n",
              "                        <td id=\"T_a594d_row6_col4\" class=\"data row6 col4\" >0.16</td>\n",
              "                        <td id=\"T_a594d_row6_col5\" class=\"data row6 col5\" >0.22</td>\n",
              "                        <td id=\"T_a594d_row6_col6\" class=\"data row6 col6\" >1.00</td>\n",
              "            </tr>\n",
              "    </tbody></table>"
            ]
          },
          "metadata": {},
          "execution_count": 7
        }
      ],
      "metadata": {
        "id": "WD0B8rln4-xb",
        "outputId": "e4be767b-82a9-4076-884f-507af46b24a9",
        "colab": {
          "base_uri": "https://localhost:8080/",
          "height": 187
        }
      }
    },
    {
      "cell_type": "code",
      "execution_count": 8,
      "source": [
        "get_freq_table(df, 'Survived')"
      ],
      "outputs": [
        {
          "output_type": "execute_result",
          "data": {
            "text/plain": [
              "   count  percentage\n",
              "0    549    0.616162\n",
              "1    342    0.383838"
            ],
            "text/html": [
              "<div>\n",
              "<style scoped>\n",
              "    .dataframe tbody tr th:only-of-type {\n",
              "        vertical-align: middle;\n",
              "    }\n",
              "\n",
              "    .dataframe tbody tr th {\n",
              "        vertical-align: top;\n",
              "    }\n",
              "\n",
              "    .dataframe thead th {\n",
              "        text-align: right;\n",
              "    }\n",
              "</style>\n",
              "<table border=\"1\" class=\"dataframe\">\n",
              "  <thead>\n",
              "    <tr style=\"text-align: right;\">\n",
              "      <th></th>\n",
              "      <th>count</th>\n",
              "      <th>percentage</th>\n",
              "    </tr>\n",
              "  </thead>\n",
              "  <tbody>\n",
              "    <tr>\n",
              "      <th>0</th>\n",
              "      <td>549</td>\n",
              "      <td>0.616162</td>\n",
              "    </tr>\n",
              "    <tr>\n",
              "      <th>1</th>\n",
              "      <td>342</td>\n",
              "      <td>0.383838</td>\n",
              "    </tr>\n",
              "  </tbody>\n",
              "</table>\n",
              "</div>"
            ]
          },
          "metadata": {},
          "execution_count": 8
        }
      ],
      "metadata": {
        "id": "IZ25cGr64-xc",
        "outputId": "e0a9b472-4e92-4155-a4f1-96b2fb94c02c",
        "colab": {
          "base_uri": "https://localhost:8080/",
          "height": 111
        }
      }
    },
    {
      "cell_type": "code",
      "execution_count": 9,
      "source": [
        "df.columns"
      ],
      "outputs": [
        {
          "output_type": "execute_result",
          "data": {
            "text/plain": [
              "Index(['PassengerId', 'Survived', 'Pclass', 'Name', 'Sex', 'Age', 'SibSp',\n",
              "       'Parch', 'Ticket', 'Fare', 'Cabin', 'Embarked'],\n",
              "      dtype='object')"
            ]
          },
          "metadata": {},
          "execution_count": 9
        }
      ],
      "metadata": {
        "id": "9ZYoKT9C4-xc",
        "outputId": "371faa72-34dd-48ee-92b0-981973c5d5e8",
        "colab": {
          "base_uri": "https://localhost:8080/"
        }
      }
    },
    {
      "cell_type": "code",
      "execution_count": 10,
      "source": [
        "model_vars = ['Pclass', 'Sex', 'Age', 'Fare', 'Survived']"
      ],
      "outputs": [],
      "metadata": {
        "id": "LyfIqVFD4-xd"
      }
    },
    {
      "cell_type": "markdown",
      "source": [
        "## Preprocess"
      ],
      "metadata": {
        "id": "Tp-GF81L4-xd"
      }
    },
    {
      "cell_type": "markdown",
      "source": [
        "### Train and Test Split"
      ],
      "metadata": {
        "id": "Eblqe14P4-xd"
      }
    },
    {
      "cell_type": "code",
      "execution_count": 11,
      "source": [
        "df_mod = df[model_vars]"
      ],
      "outputs": [],
      "metadata": {
        "id": "6HKXEsYy4-xe"
      }
    },
    {
      "cell_type": "code",
      "execution_count": 12,
      "source": [
        "X, y = get_x_y(df_mod, label_col='Survived')"
      ],
      "outputs": [],
      "metadata": {
        "id": "5lBo88C_4-xe"
      }
    },
    {
      "cell_type": "code",
      "execution_count": 13,
      "source": [
        "X_train, X_test, y_train, y_test = train_test_split(X, y, random_state=36)"
      ],
      "outputs": [],
      "metadata": {
        "id": "yX6iuQhL4-xe"
      }
    },
    {
      "cell_type": "markdown",
      "source": [
        "### Encode and Impute"
      ],
      "metadata": {
        "id": "MCqwbyEp4-xe"
      }
    },
    {
      "cell_type": "code",
      "execution_count": 14,
      "source": [
        "oh_enc = preprocessing.OneHotEncoder(drop='if_binary')\n",
        "med_imp = SimpleImputer(strategy='median')"
      ],
      "outputs": [],
      "metadata": {
        "id": "CfKK3hcn4-xe"
      }
    },
    {
      "cell_type": "code",
      "execution_count": 15,
      "source": [
        "preprocessor = get_preprocessor(oh_enc, med_imp)\n",
        "preprocessor"
      ],
      "outputs": [
        {
          "output_type": "execute_result",
          "data": {
            "text/plain": [
              "ColumnTransformer(transformers=[('onehotencoder',\n",
              "                                 OneHotEncoder(drop='if_binary'),\n",
              "                                 <sklearn.compose._column_transformer.make_column_selector object at 0x10fd7afd0>),\n",
              "                                ('simpleimputer',\n",
              "                                 SimpleImputer(strategy='median'),\n",
              "                                 <sklearn.compose._column_transformer.make_column_selector object at 0x10fd7a1d0>)])"
            ]
          },
          "metadata": {},
          "execution_count": 15
        }
      ],
      "metadata": {
        "id": "iBvv98be4-xe",
        "outputId": "ad58d297-28ac-4336-b9a1-1dfa7215ce60",
        "colab": {
          "base_uri": "https://localhost:8080/"
        }
      }
    },
    {
      "cell_type": "code",
      "execution_count": 16,
      "source": [
        "_ = preprocessor.fit(X)"
      ],
      "outputs": [],
      "metadata": {
        "id": "U8spITJX4-xf"
      }
    },
    {
      "cell_type": "code",
      "execution_count": 17,
      "source": [
        "col_names = list(preprocessor.transformers_[0][1].get_feature_names()) + preprocessor.transformers_[1][2]\n",
        "col_names"
      ],
      "outputs": [
        {
          "output_type": "execute_result",
          "data": {
            "text/plain": [
              "['x0_male', 'Pclass', 'Age', 'Fare']"
            ]
          },
          "metadata": {},
          "execution_count": 17
        }
      ],
      "metadata": {
        "id": "eeM2F48o4-xf",
        "outputId": "9b1dddb4-a9f5-4e49-e429-839149b33f6b",
        "colab": {
          "base_uri": "https://localhost:8080/"
        }
      }
    },
    {
      "cell_type": "code",
      "execution_count": 18,
      "source": [
        "X_train_prepared = do_transform(X_train, preprocessor, col_names)\n",
        "X_test_prepared = do_transform(X_test, preprocessor, col_names)"
      ],
      "outputs": [],
      "metadata": {
        "id": "-Bb5iXRX4-xf"
      }
    },
    {
      "cell_type": "markdown",
      "source": [
        "## Fit Model"
      ],
      "metadata": {
        "id": "OXZfPa-G4-xf"
      }
    },
    {
      "cell_type": "code",
      "execution_count": 19,
      "source": [
        "mod_rf = RandomForestClassifier(random_state=36)"
      ],
      "outputs": [],
      "metadata": {
        "id": "KdBsCJN-4-xf"
      }
    },
    {
      "cell_type": "code",
      "execution_count": 20,
      "source": [
        "_ = mod_rf.fit(X_train_prepared, y_train)"
      ],
      "outputs": [],
      "metadata": {
        "id": "J69lNcmE4-xg"
      }
    },
    {
      "cell_type": "code",
      "execution_count": 21,
      "source": [
        "binary_evaluation(X_train_prepared, y_train, mod_rf)"
      ],
      "outputs": [
        {
          "output_type": "execute_result",
          "data": {
            "text/plain": [
              "        metrics     value\n",
              "0      accuracy  0.979042\n",
              "1  balanced acc  0.975351\n",
              "2     precision  0.983740\n",
              "3        recall  0.960317\n",
              "4            f1  0.971888"
            ],
            "text/html": [
              "<div>\n",
              "<style scoped>\n",
              "    .dataframe tbody tr th:only-of-type {\n",
              "        vertical-align: middle;\n",
              "    }\n",
              "\n",
              "    .dataframe tbody tr th {\n",
              "        vertical-align: top;\n",
              "    }\n",
              "\n",
              "    .dataframe thead th {\n",
              "        text-align: right;\n",
              "    }\n",
              "</style>\n",
              "<table border=\"1\" class=\"dataframe\">\n",
              "  <thead>\n",
              "    <tr style=\"text-align: right;\">\n",
              "      <th></th>\n",
              "      <th>metrics</th>\n",
              "      <th>value</th>\n",
              "    </tr>\n",
              "  </thead>\n",
              "  <tbody>\n",
              "    <tr>\n",
              "      <th>0</th>\n",
              "      <td>accuracy</td>\n",
              "      <td>0.979042</td>\n",
              "    </tr>\n",
              "    <tr>\n",
              "      <th>1</th>\n",
              "      <td>balanced acc</td>\n",
              "      <td>0.975351</td>\n",
              "    </tr>\n",
              "    <tr>\n",
              "      <th>2</th>\n",
              "      <td>precision</td>\n",
              "      <td>0.983740</td>\n",
              "    </tr>\n",
              "    <tr>\n",
              "      <th>3</th>\n",
              "      <td>recall</td>\n",
              "      <td>0.960317</td>\n",
              "    </tr>\n",
              "    <tr>\n",
              "      <th>4</th>\n",
              "      <td>f1</td>\n",
              "      <td>0.971888</td>\n",
              "    </tr>\n",
              "  </tbody>\n",
              "</table>\n",
              "</div>"
            ]
          },
          "metadata": {},
          "execution_count": 21
        }
      ],
      "metadata": {
        "id": "t4DQMvS04-xg",
        "outputId": "3b4bd743-c0c8-45fe-b28b-d10c1b4cb0fb",
        "colab": {
          "base_uri": "https://localhost:8080/",
          "height": 204
        }
      }
    },
    {
      "cell_type": "code",
      "execution_count": 22,
      "source": [
        "binary_cross_evaluate(X_train_prepared, y_train, mod_rf)"
      ],
      "outputs": [
        {
          "output_type": "execute_result",
          "data": {
            "text/plain": [
              "   fit_time  score_time  test_accuracy   test_f1\n",
              "0  0.123635    0.012164       0.820628  0.759036\n",
              "1  0.111725    0.011745       0.807175  0.732919\n",
              "2  0.110472    0.011300       0.756757  0.662500"
            ],
            "text/html": [
              "<div>\n",
              "<style scoped>\n",
              "    .dataframe tbody tr th:only-of-type {\n",
              "        vertical-align: middle;\n",
              "    }\n",
              "\n",
              "    .dataframe tbody tr th {\n",
              "        vertical-align: top;\n",
              "    }\n",
              "\n",
              "    .dataframe thead th {\n",
              "        text-align: right;\n",
              "    }\n",
              "</style>\n",
              "<table border=\"1\" class=\"dataframe\">\n",
              "  <thead>\n",
              "    <tr style=\"text-align: right;\">\n",
              "      <th></th>\n",
              "      <th>fit_time</th>\n",
              "      <th>score_time</th>\n",
              "      <th>test_accuracy</th>\n",
              "      <th>test_f1</th>\n",
              "    </tr>\n",
              "  </thead>\n",
              "  <tbody>\n",
              "    <tr>\n",
              "      <th>0</th>\n",
              "      <td>0.123635</td>\n",
              "      <td>0.012164</td>\n",
              "      <td>0.820628</td>\n",
              "      <td>0.759036</td>\n",
              "    </tr>\n",
              "    <tr>\n",
              "      <th>1</th>\n",
              "      <td>0.111725</td>\n",
              "      <td>0.011745</td>\n",
              "      <td>0.807175</td>\n",
              "      <td>0.732919</td>\n",
              "    </tr>\n",
              "    <tr>\n",
              "      <th>2</th>\n",
              "      <td>0.110472</td>\n",
              "      <td>0.011300</td>\n",
              "      <td>0.756757</td>\n",
              "      <td>0.662500</td>\n",
              "    </tr>\n",
              "  </tbody>\n",
              "</table>\n",
              "</div>"
            ]
          },
          "metadata": {},
          "execution_count": 22
        }
      ],
      "metadata": {
        "id": "ilw1wUSG4-xg",
        "outputId": "1c4d926b-7448-4e95-f79b-f2f8994a60be",
        "colab": {
          "base_uri": "https://localhost:8080/",
          "height": 142
        }
      }
    },
    {
      "cell_type": "markdown",
      "source": [
        "## Error Analysis"
      ],
      "metadata": {
        "id": "4H5USppf4-xg"
      }
    },
    {
      "cell_type": "code",
      "execution_count": 23,
      "source": [
        "get_binary_error_analysis(X_test_prepared, y_test, mod_rf, only_show_error=True).head(5)"
      ],
      "outputs": [
        {
          "output_type": "execute_result",
          "data": {
            "text/plain": [
              "   x0_male  Pclass   Age      Fare  class1_prob  pred_class  actual_class  \\\n",
              "0      1.0     2.0  62.0   10.5000         0.00           0             1   \n",
              "1      1.0     3.0  20.0   15.7417         0.00           0             1   \n",
              "2      0.0     2.0  44.0   26.0000         1.00           1             0   \n",
              "3      0.0     1.0  25.0  151.5500         1.00           1             0   \n",
              "4      0.0     1.0   2.0  151.5500         0.99           1             0   \n",
              "\n",
              "        loss  \n",
              "0  18.420681  \n",
              "1  18.420681  \n",
              "2  18.420681  \n",
              "3  18.420681  \n",
              "4   4.605170  "
            ],
            "text/html": [
              "<div>\n",
              "<style scoped>\n",
              "    .dataframe tbody tr th:only-of-type {\n",
              "        vertical-align: middle;\n",
              "    }\n",
              "\n",
              "    .dataframe tbody tr th {\n",
              "        vertical-align: top;\n",
              "    }\n",
              "\n",
              "    .dataframe thead th {\n",
              "        text-align: right;\n",
              "    }\n",
              "</style>\n",
              "<table border=\"1\" class=\"dataframe\">\n",
              "  <thead>\n",
              "    <tr style=\"text-align: right;\">\n",
              "      <th></th>\n",
              "      <th>x0_male</th>\n",
              "      <th>Pclass</th>\n",
              "      <th>Age</th>\n",
              "      <th>Fare</th>\n",
              "      <th>class1_prob</th>\n",
              "      <th>pred_class</th>\n",
              "      <th>actual_class</th>\n",
              "      <th>loss</th>\n",
              "    </tr>\n",
              "  </thead>\n",
              "  <tbody>\n",
              "    <tr>\n",
              "      <th>0</th>\n",
              "      <td>1.0</td>\n",
              "      <td>2.0</td>\n",
              "      <td>62.0</td>\n",
              "      <td>10.5000</td>\n",
              "      <td>0.00</td>\n",
              "      <td>0</td>\n",
              "      <td>1</td>\n",
              "      <td>18.420681</td>\n",
              "    </tr>\n",
              "    <tr>\n",
              "      <th>1</th>\n",
              "      <td>1.0</td>\n",
              "      <td>3.0</td>\n",
              "      <td>20.0</td>\n",
              "      <td>15.7417</td>\n",
              "      <td>0.00</td>\n",
              "      <td>0</td>\n",
              "      <td>1</td>\n",
              "      <td>18.420681</td>\n",
              "    </tr>\n",
              "    <tr>\n",
              "      <th>2</th>\n",
              "      <td>0.0</td>\n",
              "      <td>2.0</td>\n",
              "      <td>44.0</td>\n",
              "      <td>26.0000</td>\n",
              "      <td>1.00</td>\n",
              "      <td>1</td>\n",
              "      <td>0</td>\n",
              "      <td>18.420681</td>\n",
              "    </tr>\n",
              "    <tr>\n",
              "      <th>3</th>\n",
              "      <td>0.0</td>\n",
              "      <td>1.0</td>\n",
              "      <td>25.0</td>\n",
              "      <td>151.5500</td>\n",
              "      <td>1.00</td>\n",
              "      <td>1</td>\n",
              "      <td>0</td>\n",
              "      <td>18.420681</td>\n",
              "    </tr>\n",
              "    <tr>\n",
              "      <th>4</th>\n",
              "      <td>0.0</td>\n",
              "      <td>1.0</td>\n",
              "      <td>2.0</td>\n",
              "      <td>151.5500</td>\n",
              "      <td>0.99</td>\n",
              "      <td>1</td>\n",
              "      <td>0</td>\n",
              "      <td>4.605170</td>\n",
              "    </tr>\n",
              "  </tbody>\n",
              "</table>\n",
              "</div>"
            ]
          },
          "metadata": {},
          "execution_count": 23
        }
      ],
      "metadata": {
        "id": "wB2iF1lB4-xg",
        "outputId": "01c5b069-a6f2-4e83-f274-edf51f51ea4f",
        "colab": {
          "base_uri": "https://localhost:8080/",
          "height": 204
        }
      }
    },
    {
      "cell_type": "markdown",
      "source": [
        "## Explain the Model"
      ],
      "metadata": {
        "id": "EIIg7wDS4-xh"
      }
    },
    {
      "cell_type": "markdown",
      "source": [
        "### Random Forest Feature Importance"
      ],
      "metadata": {
        "id": "SZPaqqs44-xh"
      }
    },
    {
      "cell_type": "code",
      "execution_count": 24,
      "source": [
        "get_feature_imp(X_train_prepared, mod_rf)"
      ],
      "outputs": [
        {
          "output_type": "execute_result",
          "data": {
            "text/plain": [
              "      name     score\n",
              "0     Fare  0.349930\n",
              "1      Age  0.288805\n",
              "2  x0_male  0.254109\n",
              "3   Pclass  0.107155"
            ],
            "text/html": [
              "<div>\n",
              "<style scoped>\n",
              "    .dataframe tbody tr th:only-of-type {\n",
              "        vertical-align: middle;\n",
              "    }\n",
              "\n",
              "    .dataframe tbody tr th {\n",
              "        vertical-align: top;\n",
              "    }\n",
              "\n",
              "    .dataframe thead th {\n",
              "        text-align: right;\n",
              "    }\n",
              "</style>\n",
              "<table border=\"1\" class=\"dataframe\">\n",
              "  <thead>\n",
              "    <tr style=\"text-align: right;\">\n",
              "      <th></th>\n",
              "      <th>name</th>\n",
              "      <th>score</th>\n",
              "    </tr>\n",
              "  </thead>\n",
              "  <tbody>\n",
              "    <tr>\n",
              "      <th>0</th>\n",
              "      <td>Fare</td>\n",
              "      <td>0.349930</td>\n",
              "    </tr>\n",
              "    <tr>\n",
              "      <th>1</th>\n",
              "      <td>Age</td>\n",
              "      <td>0.288805</td>\n",
              "    </tr>\n",
              "    <tr>\n",
              "      <th>2</th>\n",
              "      <td>x0_male</td>\n",
              "      <td>0.254109</td>\n",
              "    </tr>\n",
              "    <tr>\n",
              "      <th>3</th>\n",
              "      <td>Pclass</td>\n",
              "      <td>0.107155</td>\n",
              "    </tr>\n",
              "  </tbody>\n",
              "</table>\n",
              "</div>"
            ]
          },
          "metadata": {},
          "execution_count": 24
        }
      ],
      "metadata": {
        "id": "VunTsTrL4-xh",
        "outputId": "1413f094-20d9-48cd-a5bb-bb2234e5fe67",
        "colab": {
          "base_uri": "https://localhost:8080/",
          "height": 204
        }
      }
    },
    {
      "cell_type": "markdown",
      "source": [
        "### Permutation Feature Importance"
      ],
      "metadata": {
        "id": "8O_tbl3M4-xh"
      }
    },
    {
      "cell_type": "markdown",
      "source": [
        "Learn more about it [here](https://scikit-learn.org/stable/modules/permutation_importance.html)."
      ],
      "metadata": {}
    },
    {
      "cell_type": "code",
      "execution_count": 25,
      "source": [
        "df_permute, permute_result = get_permute_imp_df(mod_rf, X_test_prepared, y_test, return_full_result=True)"
      ],
      "outputs": [],
      "metadata": {
        "id": "bq-r8IKk4-xh"
      }
    },
    {
      "cell_type": "code",
      "execution_count": 26,
      "source": [
        "df_permute"
      ],
      "outputs": [
        {
          "output_type": "execute_result",
          "data": {
            "text/plain": [
              "      name  importance_mean  importance_std\n",
              "0  x0_male         0.231390        0.013181\n",
              "1   Pclass         0.098655        0.023387\n",
              "2      Age         0.066368        0.011830\n",
              "3     Fare         0.056502        0.011555"
            ],
            "text/html": [
              "<div>\n",
              "<style scoped>\n",
              "    .dataframe tbody tr th:only-of-type {\n",
              "        vertical-align: middle;\n",
              "    }\n",
              "\n",
              "    .dataframe tbody tr th {\n",
              "        vertical-align: top;\n",
              "    }\n",
              "\n",
              "    .dataframe thead th {\n",
              "        text-align: right;\n",
              "    }\n",
              "</style>\n",
              "<table border=\"1\" class=\"dataframe\">\n",
              "  <thead>\n",
              "    <tr style=\"text-align: right;\">\n",
              "      <th></th>\n",
              "      <th>name</th>\n",
              "      <th>importance_mean</th>\n",
              "      <th>importance_std</th>\n",
              "    </tr>\n",
              "  </thead>\n",
              "  <tbody>\n",
              "    <tr>\n",
              "      <th>0</th>\n",
              "      <td>x0_male</td>\n",
              "      <td>0.231390</td>\n",
              "      <td>0.013181</td>\n",
              "    </tr>\n",
              "    <tr>\n",
              "      <th>1</th>\n",
              "      <td>Pclass</td>\n",
              "      <td>0.098655</td>\n",
              "      <td>0.023387</td>\n",
              "    </tr>\n",
              "    <tr>\n",
              "      <th>2</th>\n",
              "      <td>Age</td>\n",
              "      <td>0.066368</td>\n",
              "      <td>0.011830</td>\n",
              "    </tr>\n",
              "    <tr>\n",
              "      <th>3</th>\n",
              "      <td>Fare</td>\n",
              "      <td>0.056502</td>\n",
              "      <td>0.011555</td>\n",
              "    </tr>\n",
              "  </tbody>\n",
              "</table>\n",
              "</div>"
            ]
          },
          "metadata": {},
          "execution_count": 26
        }
      ],
      "metadata": {
        "id": "I-AQ-DVq4-xh",
        "outputId": "9f0479bd-5246-4125-f2ad-1a8d992898fa",
        "colab": {
          "base_uri": "https://localhost:8080/",
          "height": 204
        }
      }
    },
    {
      "cell_type": "code",
      "execution_count": 27,
      "source": [
        "plot_permute_imp(X_test_prepared, permute_result)"
      ],
      "outputs": [
        {
          "output_type": "display_data",
          "data": {
            "text/plain": [
              "<Figure size 432x288 with 1 Axes>"
            ],
            "image/png": "[encoded data removed]"
          },
          "metadata": {
            "needs_background": "light"
          }
        }
      ],
      "metadata": {
        "id": "MH3vOKm54-xh",
        "outputId": "3b298edc-7d28-4432-f4b0-205c70cd43fd",
        "colab": {
          "base_uri": "https://localhost:8080/",
          "height": 297
        }
      }
    },
    {
      "cell_type": "markdown",
      "source": [
        "### Surrogate Tree"
      ],
      "metadata": {
        "id": "oITV3CGc4-xh"
      }
    },
    {
      "cell_type": "markdown",
      "source": [
        "See [here](https://christophm.github.io/interpretable-ml-book/global.html) for the idea behind surrogate tree."
      ],
      "metadata": {}
    },
    {
      "cell_type": "code",
      "execution_count": 28,
      "source": [
        "y_train_surr = mod_rf.predict(X_train_prepared)"
      ],
      "outputs": [],
      "metadata": {
        "id": "4xTIsxF84-xh"
      }
    },
    {
      "cell_type": "code",
      "execution_count": 29,
      "source": [
        "cv_dt_acc = find_dt_clf_max_depth(X_train_prepared, y_train, max_depth_range=range(1, 20))\n",
        "cv_dt_acc"
      ],
      "outputs": [
        {
          "output_type": "execute_result",
          "data": {
            "text/plain": [
              "array([0.77688226, 0.77538076, 0.80083896, 0.8127971 , 0.78734564,\n",
              "       0.79482622, 0.78589801, 0.77388599, 0.78136657, 0.78138677,\n",
              "       0.77390619, 0.76938822, 0.75743681, 0.76193458, 0.75893158,\n",
              "       0.75594204, 0.75294577, 0.75294577, 0.75294577])"
            ]
          },
          "metadata": {},
          "execution_count": 29
        }
      ],
      "metadata": {
        "id": "3WJpBb1d4-xi",
        "outputId": "94254e04-f858-4121-df83-d7c2c06d751f",
        "colab": {
          "base_uri": "https://localhost:8080/"
        }
      }
    },
    {
      "cell_type": "code",
      "execution_count": 30,
      "source": [
        "mod_dt_surr = DecisionTreeClassifier(max_depth=3).fit(X_train_prepared, y_train_surr)"
      ],
      "outputs": [],
      "metadata": {
        "id": "kXYn1rNJ4-xi"
      }
    },
    {
      "cell_type": "code",
      "execution_count": 31,
      "source": [
        "mod_dt_surr"
      ],
      "outputs": [
        {
          "output_type": "execute_result",
          "data": {
            "text/plain": [
              "DecisionTreeClassifier(max_depth=3)"
            ]
          },
          "metadata": {},
          "execution_count": 31
        }
      ],
      "metadata": {
        "id": "NXgXjGkM4-xi",
        "outputId": "be1e409b-7d8d-48f6-a75c-43d0c9312453",
        "colab": {
          "base_uri": "https://localhost:8080/"
        }
      }
    },
    {
      "cell_type": "code",
      "execution_count": 32,
      "source": [
        "fig = plt.figure(figsize=(15, 10))\n",
        "_ = plot_tree(mod_dt_surr, feature_names=X_test_prepared.columns, filled=True, fontsize=10)"
      ],
      "outputs": [
        {
          "output_type": "display_data",
          "data": {
            "text/plain": [
              "<Figure size 1080x720 with 1 Axes>"
            ],
            "image/png": "[encoded data removed]"
          },
          "metadata": {
            "needs_background": "light"
          }
        }
      ],
      "metadata": {
        "id": "dK5aP1414-xi",
        "outputId": "d1b6a7ae-4270-4be6-dada-4da4a4a355a8",
        "colab": {
          "base_uri": "https://localhost:8080/",
          "height": 575
        }
      }
    },
    {
      "cell_type": "markdown",
      "source": [
        "### Tree Interpreter"
      ],
      "metadata": {
        "id": "Htaajov-4-xi"
      }
    },
    {
      "cell_type": "markdown",
      "source": [
        "See the [package repo](https://github.com/andosa/treeinterpreter)."
      ],
      "metadata": {}
    },
    {
      "cell_type": "code",
      "execution_count": 33,
      "source": [
        "instance = X_test_prepared.iloc[[18], :]\n",
        "instance"
      ],
      "outputs": [
        {
          "output_type": "execute_result",
          "data": {
            "text/plain": [
              "    x0_male  Pclass   Age  Fare\n",
              "18      1.0     1.0  61.0  33.5"
            ],
            "text/html": [
              "<div>\n",
              "<style scoped>\n",
              "    .dataframe tbody tr th:only-of-type {\n",
              "        vertical-align: middle;\n",
              "    }\n",
              "\n",
              "    .dataframe tbody tr th {\n",
              "        vertical-align: top;\n",
              "    }\n",
              "\n",
              "    .dataframe thead th {\n",
              "        text-align: right;\n",
              "    }\n",
              "</style>\n",
              "<table border=\"1\" class=\"dataframe\">\n",
              "  <thead>\n",
              "    <tr style=\"text-align: right;\">\n",
              "      <th></th>\n",
              "      <th>x0_male</th>\n",
              "      <th>Pclass</th>\n",
              "      <th>Age</th>\n",
              "      <th>Fare</th>\n",
              "    </tr>\n",
              "  </thead>\n",
              "  <tbody>\n",
              "    <tr>\n",
              "      <th>18</th>\n",
              "      <td>1.0</td>\n",
              "      <td>1.0</td>\n",
              "      <td>61.0</td>\n",
              "      <td>33.5</td>\n",
              "    </tr>\n",
              "  </tbody>\n",
              "</table>\n",
              "</div>"
            ]
          },
          "metadata": {},
          "execution_count": 33
        }
      ],
      "metadata": {
        "id": "YAS-oHOx4-xi",
        "outputId": "794259fd-65ea-4bb2-fc1d-e81d3299db54",
        "colab": {
          "base_uri": "https://localhost:8080/",
          "height": 80
        }
      }
    },
    {
      "cell_type": "code",
      "execution_count": 34,
      "source": [
        "plot_single_instance_explaination(mod_rf, instance)"
      ],
      "outputs": [
        {
          "output_type": "display_data",
          "data": {
            "application/vnd.plotly.v1+json": {
              "config": {
                "plotlyServerURL": "https://plot.ly"
              },
              "data": [
                {
                  "measure": [
                    "absolute",
                    "relative",
                    "relative",
                    "relative",
                    "relative",
                    "total"
                  ],
                  "orientation": "v",
                  "type": "waterfall",
                  "x": [
                    "start",
                    "x0_male",
                    "Pclass",
                    "Age",
                    "Fare",
                    "final_prediction"
                  ],
                  "y": [
                    0.6223502994011978,
                    0.19761478811671307,
                    -0.13701189432092659,
                    0.23717003003570253,
                    -0.04012322323268655,
                    0.88
                  ]
                }
              ],
              "layout": {
                "template": {
                  "data": {
                    "bar": [
                      {
                        "error_x": {
                          "color": "#2a3f5f"
                        },
                        "error_y": {
                          "color": "#2a3f5f"
                        },
                        "marker": {
                          "line": {
                            "color": "#E5ECF6",
                            "width": 0.5
                          }
                        },
                        "type": "bar"
                      }
                    ],
                    "barpolar": [
                      {
                        "marker": {
                          "line": {
                            "color": "#E5ECF6",
                            "width": 0.5
                          }
                        },
                        "type": "barpolar"
                      }
                    ],
                    "carpet": [
                      {
                        "aaxis": {
                          "endlinecolor": "#2a3f5f",
                          "gridcolor": "white",
                          "linecolor": "white",
                          "minorgridcolor": "white",
                          "startlinecolor": "#2a3f5f"
                        },
                        "baxis": {
                          "endlinecolor": "#2a3f5f",
                          "gridcolor": "white",
                          "linecolor": "white",
                          "minorgridcolor": "white",
                          "startlinecolor": "#2a3f5f"
                        },
                        "type": "carpet"
                      }
                    ],
                    "choropleth": [
                      {
                        "colorbar": {
                          "outlinewidth": 0,
                          "ticks": ""
                        },
                        "type": "choropleth"
                      }
                    ],
                    "contour": [
                      {
                        "colorbar": {
                          "outlinewidth": 0,
                          "ticks": ""
                        },
                        "colorscale": [
                          [
                            0,
                            "#0d0887"
                          ],
                          [
                            0.1111111111111111,
                            "#46039f"
                          ],
                          [
                            0.2222222222222222,
                            "#7201a8"
                          ],
                          [
                            0.3333333333333333,
                            "#9c179e"
                          ],
                          [
                            0.4444444444444444,
                            "#bd3786"
                          ],
                          [
                            0.5555555555555556,
                            "#d8576b"
                          ],
                          [
                            0.6666666666666666,
                            "#ed7953"
                          ],
                          [
                            0.7777777777777778,
                            "#fb9f3a"
                          ],
                          [
                            0.8888888888888888,
                            "#fdca26"
                          ],
                          [
                            1,
                            "#f0f921"
                          ]
                        ],
                        "type": "contour"
                      }
                    ],
                    "contourcarpet": [
                      {
                        "colorbar": {
                          "outlinewidth": 0,
                          "ticks": ""
                        },
                        "type": "contourcarpet"
                      }
                    ],
                    "heatmap": [
                      {
                        "colorbar": {
                          "outlinewidth": 0,
                          "ticks": ""
                        },
                        "colorscale": [
                          [
                            0,
                            "#0d0887"
                          ],
                          [
                            0.1111111111111111,
                            "#46039f"
                          ],
                          [
                            0.2222222222222222,
                            "#7201a8"
                          ],
                          [
                            0.3333333333333333,
                            "#9c179e"
                          ],
                          [
                            0.4444444444444444,
                            "#bd3786"
                          ],
                          [
                            0.5555555555555556,
                            "#d8576b"
                          ],
                          [
                            0.6666666666666666,
                            "#ed7953"
                          ],
                          [
                            0.7777777777777778,
                            "#fb9f3a"
                          ],
                          [
                            0.8888888888888888,
                            "#fdca26"
                          ],
                          [
                            1,
                            "#f0f921"
                          ]
                        ],
                        "type": "heatmap"
                      }
                    ],
                    "heatmapgl": [
                      {
                        "colorbar": {
                          "outlinewidth": 0,
                          "ticks": ""
                        },
                        "colorscale": [
                          [
                            0,
                            "#0d0887"
                          ],
                          [
                            0.1111111111111111,
                            "#46039f"
                          ],
                          [
                            0.2222222222222222,
                            "#7201a8"
                          ],
                          [
                            0.3333333333333333,
                            "#9c179e"
                          ],
                          [
                            0.4444444444444444,
                            "#bd3786"
                          ],
                          [
                            0.5555555555555556,
                            "#d8576b"
                          ],
                          [
                            0.6666666666666666,
                            "#ed7953"
                          ],
                          [
                            0.7777777777777778,
                            "#fb9f3a"
                          ],
                          [
                            0.8888888888888888,
                            "#fdca26"
                          ],
                          [
                            1,
                            "#f0f921"
                          ]
                        ],
                        "type": "heatmapgl"
                      }
                    ],
                    "histogram": [
                      {
                        "marker": {
                          "colorbar": {
                            "outlinewidth": 0,
                            "ticks": ""
                          }
                        },
                        "type": "histogram"
                      }
                    ],
                    "histogram2d": [
                      {
                        "colorbar": {
                          "outlinewidth": 0,
                          "ticks": ""
                        },
                        "colorscale": [
                          [
                            0,
                            "#0d0887"
                          ],
                          [
                            0.1111111111111111,
                            "#46039f"
                          ],
                          [
                            0.2222222222222222,
                            "#7201a8"
                          ],
                          [
                            0.3333333333333333,
                            "#9c179e"
                          ],
                          [
                            0.4444444444444444,
                            "#bd3786"
                          ],
                          [
                            0.5555555555555556,
                            "#d8576b"
                          ],
                          [
                            0.6666666666666666,
                            "#ed7953"
                          ],
                          [
                            0.7777777777777778,
                            "#fb9f3a"
                          ],
                          [
                            0.8888888888888888,
                            "#fdca26"
                          ],
                          [
                            1,
                            "#f0f921"
                          ]
                        ],
                        "type": "histogram2d"
                      }
                    ],
                    "histogram2dcontour": [
                      {
                        "colorbar": {
                          "outlinewidth": 0,
                          "ticks": ""
                        },
                        "colorscale": [
                          [
                            0,
                            "#0d0887"
                          ],
                          [
                            0.1111111111111111,
                            "#46039f"
                          ],
                          [
                            0.2222222222222222,
                            "#7201a8"
                          ],
                          [
                            0.3333333333333333,
                            "#9c179e"
                          ],
                          [
                            0.4444444444444444,
                            "#bd3786"
                          ],
                          [
                            0.5555555555555556,
                            "#d8576b"
                          ],
                          [
                            0.6666666666666666,
                            "#ed7953"
                          ],
                          [
                            0.7777777777777778,
                            "#fb9f3a"
                          ],
                          [
                            0.8888888888888888,
                            "#fdca26"
                          ],
                          [
                            1,
                            "#f0f921"
                          ]
                        ],
                        "type": "histogram2dcontour"
                      }
                    ],
                    "mesh3d": [
                      {
                        "colorbar": {
                          "outlinewidth": 0,
                          "ticks": ""
                        },
                        "type": "mesh3d"
                      }
                    ],
                    "parcoords": [
                      {
                        "line": {
                          "colorbar": {
                            "outlinewidth": 0,
                            "ticks": ""
                          }
                        },
                        "type": "parcoords"
                      }
                    ],
                    "pie": [
                      {
                        "automargin": true,
                        "type": "pie"
                      }
                    ],
                    "scatter": [
                      {
                        "marker": {
                          "colorbar": {
                            "outlinewidth": 0,
                            "ticks": ""
                          }
                        },
                        "type": "scatter"
                      }
                    ],
                    "scatter3d": [
                      {
                        "line": {
                          "colorbar": {
                            "outlinewidth": 0,
                            "ticks": ""
                          }
                        },
                        "marker": {
                          "colorbar": {
                            "outlinewidth": 0,
                            "ticks": ""
                          }
                        },
                        "type": "scatter3d"
                      }
                    ],
                    "scattercarpet": [
                      {
                        "marker": {
                          "colorbar": {
                            "outlinewidth": 0,
                            "ticks": ""
                          }
                        },
                        "type": "scattercarpet"
                      }
                    ],
                    "scattergeo": [
                      {
                        "marker": {
                          "colorbar": {
                            "outlinewidth": 0,
                            "ticks": ""
                          }
                        },
                        "type": "scattergeo"
                      }
                    ],
                    "scattergl": [
                      {
                        "marker": {
                          "colorbar": {
                            "outlinewidth": 0,
                            "ticks": ""
                          }
                        },
                        "type": "scattergl"
                      }
                    ],
                    "scattermapbox": [
                      {
                        "marker": {
                          "colorbar": {
                            "outlinewidth": 0,
                            "ticks": ""
                          }
                        },
                        "type": "scattermapbox"
                      }
                    ],
                    "scatterpolar": [
                      {
                        "marker": {
                          "colorbar": {
                            "outlinewidth": 0,
                            "ticks": ""
                          }
                        },
                        "type": "scatterpolar"
                      }
                    ],
                    "scatterpolargl": [
                      {
                        "marker": {
                          "colorbar": {
                            "outlinewidth": 0,
                            "ticks": ""
                          }
                        },
                        "type": "scatterpolargl"
                      }
                    ],
                    "scatterternary": [
                      {
                        "marker": {
                          "colorbar": {
                            "outlinewidth": 0,
                            "ticks": ""
                          }
                        },
                        "type": "scatterternary"
                      }
                    ],
                    "surface": [
                      {
                        "colorbar": {
                          "outlinewidth": 0,
                          "ticks": ""
                        },
                        "colorscale": [
                          [
                            0,
                            "#0d0887"
                          ],
                          [
                            0.1111111111111111,
                            "#46039f"
                          ],
                          [
                            0.2222222222222222,
                            "#7201a8"
                          ],
                          [
                            0.3333333333333333,
                            "#9c179e"
                          ],
                          [
                            0.4444444444444444,
                            "#bd3786"
                          ],
                          [
                            0.5555555555555556,
                            "#d8576b"
                          ],
                          [
                            0.6666666666666666,
                            "#ed7953"
                          ],
                          [
                            0.7777777777777778,
                            "#fb9f3a"
                          ],
                          [
                            0.8888888888888888,
                            "#fdca26"
                          ],
                          [
                            1,
                            "#f0f921"
                          ]
                        ],
                        "type": "surface"
                      }
                    ],
                    "table": [
                      {
                        "cells": {
                          "fill": {
                            "color": "#EBF0F8"
                          },
                          "line": {
                            "color": "white"
                          }
                        },
                        "header": {
                          "fill": {
                            "color": "#C8D4E3"
                          },
                          "line": {
                            "color": "white"
                          }
                        },
                        "type": "table"
                      }
                    ]
                  },
                  "layout": {
                    "annotationdefaults": {
                      "arrowcolor": "#2a3f5f",
                      "arrowhead": 0,
                      "arrowwidth": 1
                    },
                    "autotypenumbers": "strict",
                    "coloraxis": {
                      "colorbar": {
                        "outlinewidth": 0,
                        "ticks": ""
                      }
                    },
                    "colorscale": {
                      "diverging": [
                        [
                          0,
                          "#8e0152"
                        ],
                        [
                          0.1,
                          "#c51b7d"
                        ],
                        [
                          0.2,
                          "#de77ae"
                        ],
                        [
                          0.3,
                          "#f1b6da"
                        ],
                        [
                          0.4,
                          "#fde0ef"
                        ],
                        [
                          0.5,
                          "#f7f7f7"
                        ],
                        [
                          0.6,
                          "#e6f5d0"
                        ],
                        [
                          0.7,
                          "#b8e186"
                        ],
                        [
                          0.8,
                          "#7fbc41"
                        ],
                        [
                          0.9,
                          "#4d9221"
                        ],
                        [
                          1,
                          "#276419"
                        ]
                      ],
                      "sequential": [
                        [
                          0,
                          "#0d0887"
                        ],
                        [
                          0.1111111111111111,
                          "#46039f"
                        ],
                        [
                          0.2222222222222222,
                          "#7201a8"
                        ],
                        [
                          0.3333333333333333,
                          "#9c179e"
                        ],
                        [
                          0.4444444444444444,
                          "#bd3786"
                        ],
                        [
                          0.5555555555555556,
                          "#d8576b"
                        ],
                        [
                          0.6666666666666666,
                          "#ed7953"
                        ],
                        [
                          0.7777777777777778,
                          "#fb9f3a"
                        ],
                        [
                          0.8888888888888888,
                          "#fdca26"
                        ],
                        [
                          1,
                          "#f0f921"
                        ]
                      ],
                      "sequentialminus": [
                        [
                          0,
                          "#0d0887"
                        ],
                        [
                          0.1111111111111111,
                          "#46039f"
                        ],
                        [
                          0.2222222222222222,
                          "#7201a8"
                        ],
                        [
                          0.3333333333333333,
                          "#9c179e"
                        ],
                        [
                          0.4444444444444444,
                          "#bd3786"
                        ],
                        [
                          0.5555555555555556,
                          "#d8576b"
                        ],
                        [
                          0.6666666666666666,
                          "#ed7953"
                        ],
                        [
                          0.7777777777777778,
                          "#fb9f3a"
                        ],
                        [
                          0.8888888888888888,
                          "#fdca26"
                        ],
                        [
                          1,
                          "#f0f921"
                        ]
                      ]
                    },
                    "colorway": [
                      "#636efa",
                      "#EF553B",
                      "#00cc96",
                      "#ab63fa",
                      "#FFA15A",
                      "#19d3f3",
                      "#FF6692",
                      "#B6E880",
                      "#FF97FF",
                      "#FECB52"
                    ],
                    "font": {
                      "color": "#2a3f5f"
                    },
                    "geo": {
                      "bgcolor": "white",
                      "lakecolor": "white",
                      "landcolor": "#E5ECF6",
                      "showlakes": true,
                      "showland": true,
                      "subunitcolor": "white"
                    },
                    "hoverlabel": {
                      "align": "left"
                    },
                    "hovermode": "closest",
                    "mapbox": {
                      "style": "light"
                    },
                    "paper_bgcolor": "white",
                    "plot_bgcolor": "#E5ECF6",
                    "polar": {
                      "angularaxis": {
                        "gridcolor": "white",
                        "linecolor": "white",
                        "ticks": ""
                      },
                      "bgcolor": "#E5ECF6",
                      "radialaxis": {
                        "gridcolor": "white",
                        "linecolor": "white",
                        "ticks": ""
                      }
                    },
                    "scene": {
                      "xaxis": {
                        "backgroundcolor": "#E5ECF6",
                        "gridcolor": "white",
                        "gridwidth": 2,
                        "linecolor": "white",
                        "showbackground": true,
                        "ticks": "",
                        "zerolinecolor": "white"
                      },
                      "yaxis": {
                        "backgroundcolor": "#E5ECF6",
                        "gridcolor": "white",
                        "gridwidth": 2,
                        "linecolor": "white",
                        "showbackground": true,
                        "ticks": "",
                        "zerolinecolor": "white"
                      },
                      "zaxis": {
                        "backgroundcolor": "#E5ECF6",
                        "gridcolor": "white",
                        "gridwidth": 2,
                        "linecolor": "white",
                        "showbackground": true,
                        "ticks": "",
                        "zerolinecolor": "white"
                      }
                    },
                    "shapedefaults": {
                      "line": {
                        "color": "#2a3f5f"
                      }
                    },
                    "ternary": {
                      "aaxis": {
                        "gridcolor": "white",
                        "linecolor": "white",
                        "ticks": ""
                      },
                      "baxis": {
                        "gridcolor": "white",
                        "linecolor": "white",
                        "ticks": ""
                      },
                      "bgcolor": "#E5ECF6",
                      "caxis": {
                        "gridcolor": "white",
                        "linecolor": "white",
                        "ticks": ""
                      }
                    },
                    "title": {
                      "x": 0.05
                    },
                    "xaxis": {
                      "automargin": true,
                      "gridcolor": "white",
                      "linecolor": "white",
                      "ticks": "",
                      "title": {
                        "standoff": 15
                      },
                      "zerolinecolor": "white",
                      "zerolinewidth": 2
                    },
                    "yaxis": {
                      "automargin": true,
                      "gridcolor": "white",
                      "linecolor": "white",
                      "ticks": "",
                      "title": {
                        "standoff": 15
                      },
                      "zerolinecolor": "white",
                      "zerolinewidth": 2
                    }
                  }
                }
              }
            }
          },
          "metadata": {}
        }
      ],
      "metadata": {
        "id": "AS9ny4cJ4-xi",
        "outputId": "07b89c48-63c7-417e-f5c1-31ed40e5d0ea",
        "colab": {
          "base_uri": "https://localhost:8080/",
          "height": 542
        }
      }
    },
    {
      "cell_type": "code",
      "execution_count": null,
      "source": [],
      "outputs": [],
      "metadata": {
        "id": "yhb8SgRQ6mdP"
      }
    }
  ]
}